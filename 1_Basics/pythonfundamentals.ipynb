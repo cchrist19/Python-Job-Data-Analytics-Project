{
  "cells": [
    {
      "cell_type": "markdown",
      "metadata": {
        "id": "osNhFnB-a_R_"
      },
      "source": [
        "# Definitions\n"
      ]
    },
    {
      "cell_type": "markdown",
      "metadata": {
        "id": "00c9hIR1RvPx"
      },
      "source": [
        "-**Objects**: a data record with fields; an instance of a class. Everything in Python is an object"
      ]
    },
    {
      "cell_type": "code",
      "execution_count": null,
      "metadata": {
        "colab": {
          "base_uri": "https://localhost:8080/"
        },
        "id": "g42OiLFBOH79",
        "outputId": "527daf51-a3ab-4a66-a57c-7cfa589e71ba"
      },
      "outputs": [
        {
          "data": {
            "text/plain": [
              "int"
            ]
          },
          "execution_count": 1,
          "metadata": {},
          "output_type": "execute_result"
        }
      ],
      "source": [
        "type(1000)"
      ]
    },
    {
      "cell_type": "markdown",
      "metadata": {
        "id": "jn6F8xAUSey1"
      },
      "source": [
        "1000 is an instance of the class 'int', therefore this is an object. \"Hello World\" is an instance of the class 'str' therefore this is an object."
      ]
    },
    {
      "cell_type": "markdown",
      "metadata": {
        "id": "J2OktQWMS-sf"
      },
      "source": [
        "-**Variables**: defined names that references an object. Acts as a data store."
      ]
    },
    {
      "cell_type": "code",
      "execution_count": null,
      "metadata": {
        "id": "mNpW2_cWTFnC"
      },
      "outputs": [],
      "source": [
        "job_title = \"Data Analyst\"\n",
        "job_location = \"United Kingdom\"\n",
        "job_salary = 100000"
      ]
    },
    {
      "cell_type": "markdown",
      "metadata": {
        "id": "e6HmL--DT36v"
      },
      "source": [
        "You can also assign a function to a variable. For instance:"
      ]
    },
    {
      "cell_type": "code",
      "execution_count": null,
      "metadata": {
        "colab": {
          "base_uri": "https://localhost:8080/"
        },
        "id": "tq_CG9C-T_WN",
        "outputId": "1eae64b9-03c7-4503-96c3-b46da7d3f88a"
      },
      "outputs": [
        {
          "name": "stdout",
          "output_type": "stream",
          "text": [
            "Hi there\n"
          ]
        }
      ],
      "source": [
        "my_print_func = print\n",
        "my_print_func(\"Hi there\")"
      ]
    },
    {
      "cell_type": "markdown",
      "metadata": {
        "id": "4TVNze-CUKq0"
      },
      "source": [
        "-**Functions**: a reusable piece of code that performs a specific task. In order to run a function, you need () to input the argument. An argument is the value passed to the function when its called."
      ]
    },
    {
      "cell_type": "code",
      "execution_count": null,
      "metadata": {
        "colab": {
          "base_uri": "https://localhost:8080/"
        },
        "id": "Ds92kmBCUR8w",
        "outputId": "375257f1-d184-4664-e86c-e4a12d8b2123"
      },
      "outputs": [
        {
          "name": "stdout",
          "output_type": "stream",
          "text": [
            "What is up!\n"
          ]
        }
      ],
      "source": [
        "print(\"What is up!\")"
      ]
    },
    {
      "cell_type": "markdown",
      "metadata": {
        "id": "JkjzTzUZUx4i"
      },
      "source": [
        "This is an example of a built-in function. We can also build novel functions using 'def'"
      ]
    },
    {
      "cell_type": "code",
      "execution_count": null,
      "metadata": {
        "colab": {
          "base_uri": "https://localhost:8080/",
          "height": 35
        },
        "id": "oGOh-thHVHQ0",
        "outputId": "26349b0c-97be-43c0-f055-f9331118b135"
      },
      "outputs": [
        {
          "data": {
            "application/vnd.google.colaboratory.intrinsic+json": {
              "type": "string"
            },
            "text/plain": [
              "'What is up!'"
            ]
          },
          "execution_count": 5,
          "metadata": {},
          "output_type": "execute_result"
        }
      ],
      "source": [
        "def greet():\n",
        "  return \"What is up!\"\n",
        "\n",
        "\n",
        "greet()"
      ]
    },
    {
      "cell_type": "markdown",
      "metadata": {
        "id": "NS3hcM16VoN5"
      },
      "source": [
        "-**Classes**: a template for creating objects (records). Remember, 1000 is an instance of the class 'int'."
      ]
    },
    {
      "cell_type": "markdown",
      "metadata": {
        "id": "MGA1x336WlOZ"
      },
      "source": [
        "-**Attributes**: the variables of an object (a field in a record) defined by its class. Use the dot operator after calling an instance of a class to access attributes and methods"
      ]
    },
    {
      "cell_type": "code",
      "execution_count": null,
      "metadata": {
        "colab": {
          "base_uri": "https://localhost:8080/",
          "height": 35
        },
        "id": "On5jvyVhXBxx",
        "outputId": "3de80e17-bc5e-42b0-d52f-1b8963fb20cb"
      },
      "outputs": [
        {
          "data": {
            "application/vnd.google.colaboratory.intrinsic+json": {
              "type": "string"
            },
            "text/plain": [
              "'Data Analyst'"
            ]
          },
          "execution_count": 18,
          "metadata": {},
          "output_type": "execute_result"
        }
      ],
      "source": [
        "class JobPost:\n",
        "  def __init__(self, title, location, salary):\n",
        "    self.title = title\n",
        "    self.location = location\n",
        "    self.salary = salary\n",
        "\n",
        "\n",
        "job_1 = JobPost(job_title, job_location, job_salary)\n",
        "job_1.title"
      ]
    },
    {
      "cell_type": "markdown",
      "metadata": {
        "id": "LxnMVhhxXwkR"
      },
      "source": [
        "-**Methods**: the functions defined inside a class that operates on its objects. Remember to add () for methods"
      ]
    },
    {
      "cell_type": "code",
      "execution_count": null,
      "metadata": {
        "colab": {
          "base_uri": "https://localhost:8080/"
        },
        "id": "SThyt58UYBXQ",
        "outputId": "0e2bd937-d0af-47c2-e43e-f1144eb7f021"
      },
      "outputs": [
        {
          "data": {
            "text/plain": [
              "100020"
            ]
          },
          "execution_count": 7,
          "metadata": {},
          "output_type": "execute_result"
        }
      ],
      "source": [
        "job_salary.__add__(20)"
      ]
    },
    {
      "cell_type": "markdown",
      "metadata": {
        "id": "5gcoZJ0Nb9Eg"
      },
      "source": [
        "# Strings & Strings Formatting"
      ]
    },
    {
      "cell_type": "markdown",
      "metadata": {
        "id": "GgV10R3acP5C"
      },
      "source": [
        "Here are some of the following built-in methods for the str class. To observe methods, type 'help(str)'"
      ]
    },
    {
      "cell_type": "code",
      "execution_count": null,
      "metadata": {
        "colab": {
          "base_uri": "https://localhost:8080/",
          "height": 35
        },
        "id": "UKNBSnSJcTIn",
        "outputId": "6459f536-8cc3-4b19-8b8e-dc2444de34da"
      },
      "outputs": [
        {
          "data": {
            "application/vnd.google.colaboratory.intrinsic+json": {
              "type": "string"
            },
            "text/plain": [
              "'PYTHON'"
            ]
          },
          "execution_count": 8,
          "metadata": {},
          "output_type": "execute_result"
        }
      ],
      "source": [
        "skill = \"Python\"\n",
        "skill.upper()"
      ]
    },
    {
      "cell_type": "code",
      "execution_count": null,
      "metadata": {
        "colab": {
          "base_uri": "https://localhost:8080/"
        },
        "id": "5kAW9hmFdJTH",
        "outputId": "32adf399-6c08-4013-b931-28d6927a7b18"
      },
      "outputs": [
        {
          "name": "stdout",
          "output_type": "stream",
          "text": [
            "Help on class str in module builtins:\n",
            "\n",
            "class str(object)\n",
            " |  str(object='') -> str\n",
            " |  str(bytes_or_buffer[, encoding[, errors]]) -> str\n",
            " |  \n",
            " |  Create a new string object from the given object. If encoding or\n",
            " |  errors is specified, then the object must expose a data buffer\n",
            " |  that will be decoded using the given encoding and error handler.\n",
            " |  Otherwise, returns the result of object.__str__() (if defined)\n",
            " |  or repr(object).\n",
            " |  encoding defaults to sys.getdefaultencoding().\n",
            " |  errors defaults to 'strict'.\n",
            " |  \n",
            " |  Methods defined here:\n",
            " |  \n",
            " |  __add__(self, value, /)\n",
            " |      Return self+value.\n",
            " |  \n",
            " |  __contains__(self, key, /)\n",
            " |      Return key in self.\n",
            " |  \n",
            " |  __eq__(self, value, /)\n",
            " |      Return self==value.\n",
            " |  \n",
            " |  __format__(self, format_spec, /)\n",
            " |      Return a formatted version of the string as described by format_spec.\n",
            " |  \n",
            " |  __ge__(self, value, /)\n",
            " |      Return self>=value.\n",
            " |  \n",
            " |  __getattribute__(self, name, /)\n",
            " |      Return getattr(self, name).\n",
            " |  \n",
            " |  __getitem__(self, key, /)\n",
            " |      Return self[key].\n",
            " |  \n",
            " |  __getnewargs__(...)\n",
            " |  \n",
            " |  __gt__(self, value, /)\n",
            " |      Return self>value.\n",
            " |  \n",
            " |  __hash__(self, /)\n",
            " |      Return hash(self).\n",
            " |  \n",
            " |  __iter__(self, /)\n",
            " |      Implement iter(self).\n",
            " |  \n",
            " |  __le__(self, value, /)\n",
            " |      Return self<=value.\n",
            " |  \n",
            " |  __len__(self, /)\n",
            " |      Return len(self).\n",
            " |  \n",
            " |  __lt__(self, value, /)\n",
            " |      Return self<value.\n",
            " |  \n",
            " |  __mod__(self, value, /)\n",
            " |      Return self%value.\n",
            " |  \n",
            " |  __mul__(self, value, /)\n",
            " |      Return self*value.\n",
            " |  \n",
            " |  __ne__(self, value, /)\n",
            " |      Return self!=value.\n",
            " |  \n",
            " |  __repr__(self, /)\n",
            " |      Return repr(self).\n",
            " |  \n",
            " |  __rmod__(self, value, /)\n",
            " |      Return value%self.\n",
            " |  \n",
            " |  __rmul__(self, value, /)\n",
            " |      Return value*self.\n",
            " |  \n",
            " |  __sizeof__(self, /)\n",
            " |      Return the size of the string in memory, in bytes.\n",
            " |  \n",
            " |  __str__(self, /)\n",
            " |      Return str(self).\n",
            " |  \n",
            " |  capitalize(self, /)\n",
            " |      Return a capitalized version of the string.\n",
            " |      \n",
            " |      More specifically, make the first character have upper case and the rest lower\n",
            " |      case.\n",
            " |  \n",
            " |  casefold(self, /)\n",
            " |      Return a version of the string suitable for caseless comparisons.\n",
            " |  \n",
            " |  center(self, width, fillchar=' ', /)\n",
            " |      Return a centered string of length width.\n",
            " |      \n",
            " |      Padding is done using the specified fill character (default is a space).\n",
            " |  \n",
            " |  count(...)\n",
            " |      S.count(sub[, start[, end]]) -> int\n",
            " |      \n",
            " |      Return the number of non-overlapping occurrences of substring sub in\n",
            " |      string S[start:end].  Optional arguments start and end are\n",
            " |      interpreted as in slice notation.\n",
            " |  \n",
            " |  encode(self, /, encoding='utf-8', errors='strict')\n",
            " |      Encode the string using the codec registered for encoding.\n",
            " |      \n",
            " |      encoding\n",
            " |        The encoding in which to encode the string.\n",
            " |      errors\n",
            " |        The error handling scheme to use for encoding errors.\n",
            " |        The default is 'strict' meaning that encoding errors raise a\n",
            " |        UnicodeEncodeError.  Other possible values are 'ignore', 'replace' and\n",
            " |        'xmlcharrefreplace' as well as any other name registered with\n",
            " |        codecs.register_error that can handle UnicodeEncodeErrors.\n",
            " |  \n",
            " |  endswith(...)\n",
            " |      S.endswith(suffix[, start[, end]]) -> bool\n",
            " |      \n",
            " |      Return True if S ends with the specified suffix, False otherwise.\n",
            " |      With optional start, test S beginning at that position.\n",
            " |      With optional end, stop comparing S at that position.\n",
            " |      suffix can also be a tuple of strings to try.\n",
            " |  \n",
            " |  expandtabs(self, /, tabsize=8)\n",
            " |      Return a copy where all tab characters are expanded using spaces.\n",
            " |      \n",
            " |      If tabsize is not given, a tab size of 8 characters is assumed.\n",
            " |  \n",
            " |  find(...)\n",
            " |      S.find(sub[, start[, end]]) -> int\n",
            " |      \n",
            " |      Return the lowest index in S where substring sub is found,\n",
            " |      such that sub is contained within S[start:end].  Optional\n",
            " |      arguments start and end are interpreted as in slice notation.\n",
            " |      \n",
            " |      Return -1 on failure.\n",
            " |  \n",
            " |  format(...)\n",
            " |      S.format(*args, **kwargs) -> str\n",
            " |      \n",
            " |      Return a formatted version of S, using substitutions from args and kwargs.\n",
            " |      The substitutions are identified by braces ('{' and '}').\n",
            " |  \n",
            " |  format_map(...)\n",
            " |      S.format_map(mapping) -> str\n",
            " |      \n",
            " |      Return a formatted version of S, using substitutions from mapping.\n",
            " |      The substitutions are identified by braces ('{' and '}').\n",
            " |  \n",
            " |  index(...)\n",
            " |      S.index(sub[, start[, end]]) -> int\n",
            " |      \n",
            " |      Return the lowest index in S where substring sub is found,\n",
            " |      such that sub is contained within S[start:end].  Optional\n",
            " |      arguments start and end are interpreted as in slice notation.\n",
            " |      \n",
            " |      Raises ValueError when the substring is not found.\n",
            " |  \n",
            " |  isalnum(self, /)\n",
            " |      Return True if the string is an alpha-numeric string, False otherwise.\n",
            " |      \n",
            " |      A string is alpha-numeric if all characters in the string are alpha-numeric and\n",
            " |      there is at least one character in the string.\n",
            " |  \n",
            " |  isalpha(self, /)\n",
            " |      Return True if the string is an alphabetic string, False otherwise.\n",
            " |      \n",
            " |      A string is alphabetic if all characters in the string are alphabetic and there\n",
            " |      is at least one character in the string.\n",
            " |  \n",
            " |  isascii(self, /)\n",
            " |      Return True if all characters in the string are ASCII, False otherwise.\n",
            " |      \n",
            " |      ASCII characters have code points in the range U+0000-U+007F.\n",
            " |      Empty string is ASCII too.\n",
            " |  \n",
            " |  isdecimal(self, /)\n",
            " |      Return True if the string is a decimal string, False otherwise.\n",
            " |      \n",
            " |      A string is a decimal string if all characters in the string are decimal and\n",
            " |      there is at least one character in the string.\n",
            " |  \n",
            " |  isdigit(self, /)\n",
            " |      Return True if the string is a digit string, False otherwise.\n",
            " |      \n",
            " |      A string is a digit string if all characters in the string are digits and there\n",
            " |      is at least one character in the string.\n",
            " |  \n",
            " |  isidentifier(self, /)\n",
            " |      Return True if the string is a valid Python identifier, False otherwise.\n",
            " |      \n",
            " |      Call keyword.iskeyword(s) to test whether string s is a reserved identifier,\n",
            " |      such as \"def\" or \"class\".\n",
            " |  \n",
            " |  islower(self, /)\n",
            " |      Return True if the string is a lowercase string, False otherwise.\n",
            " |      \n",
            " |      A string is lowercase if all cased characters in the string are lowercase and\n",
            " |      there is at least one cased character in the string.\n",
            " |  \n",
            " |  isnumeric(self, /)\n",
            " |      Return True if the string is a numeric string, False otherwise.\n",
            " |      \n",
            " |      A string is numeric if all characters in the string are numeric and there is at\n",
            " |      least one character in the string.\n",
            " |  \n",
            " |  isprintable(self, /)\n",
            " |      Return True if the string is printable, False otherwise.\n",
            " |      \n",
            " |      A string is printable if all of its characters are considered printable in\n",
            " |      repr() or if it is empty.\n",
            " |  \n",
            " |  isspace(self, /)\n",
            " |      Return True if the string is a whitespace string, False otherwise.\n",
            " |      \n",
            " |      A string is whitespace if all characters in the string are whitespace and there\n",
            " |      is at least one character in the string.\n",
            " |  \n",
            " |  istitle(self, /)\n",
            " |      Return True if the string is a title-cased string, False otherwise.\n",
            " |      \n",
            " |      In a title-cased string, upper- and title-case characters may only\n",
            " |      follow uncased characters and lowercase characters only cased ones.\n",
            " |  \n",
            " |  isupper(self, /)\n",
            " |      Return True if the string is an uppercase string, False otherwise.\n",
            " |      \n",
            " |      A string is uppercase if all cased characters in the string are uppercase and\n",
            " |      there is at least one cased character in the string.\n",
            " |  \n",
            " |  join(self, iterable, /)\n",
            " |      Concatenate any number of strings.\n",
            " |      \n",
            " |      The string whose method is called is inserted in between each given string.\n",
            " |      The result is returned as a new string.\n",
            " |      \n",
            " |      Example: '.'.join(['ab', 'pq', 'rs']) -> 'ab.pq.rs'\n",
            " |  \n",
            " |  ljust(self, width, fillchar=' ', /)\n",
            " |      Return a left-justified string of length width.\n",
            " |      \n",
            " |      Padding is done using the specified fill character (default is a space).\n",
            " |  \n",
            " |  lower(self, /)\n",
            " |      Return a copy of the string converted to lowercase.\n",
            " |  \n",
            " |  lstrip(self, chars=None, /)\n",
            " |      Return a copy of the string with leading whitespace removed.\n",
            " |      \n",
            " |      If chars is given and not None, remove characters in chars instead.\n",
            " |  \n",
            " |  partition(self, sep, /)\n",
            " |      Partition the string into three parts using the given separator.\n",
            " |      \n",
            " |      This will search for the separator in the string.  If the separator is found,\n",
            " |      returns a 3-tuple containing the part before the separator, the separator\n",
            " |      itself, and the part after it.\n",
            " |      \n",
            " |      If the separator is not found, returns a 3-tuple containing the original string\n",
            " |      and two empty strings.\n",
            " |  \n",
            " |  removeprefix(self, prefix, /)\n",
            " |      Return a str with the given prefix string removed if present.\n",
            " |      \n",
            " |      If the string starts with the prefix string, return string[len(prefix):].\n",
            " |      Otherwise, return a copy of the original string.\n",
            " |  \n",
            " |  removesuffix(self, suffix, /)\n",
            " |      Return a str with the given suffix string removed if present.\n",
            " |      \n",
            " |      If the string ends with the suffix string and that suffix is not empty,\n",
            " |      return string[:-len(suffix)]. Otherwise, return a copy of the original\n",
            " |      string.\n",
            " |  \n",
            " |  replace(self, old, new, count=-1, /)\n",
            " |      Return a copy with all occurrences of substring old replaced by new.\n",
            " |      \n",
            " |        count\n",
            " |          Maximum number of occurrences to replace.\n",
            " |          -1 (the default value) means replace all occurrences.\n",
            " |      \n",
            " |      If the optional argument count is given, only the first count occurrences are\n",
            " |      replaced.\n",
            " |  \n",
            " |  rfind(...)\n",
            " |      S.rfind(sub[, start[, end]]) -> int\n",
            " |      \n",
            " |      Return the highest index in S where substring sub is found,\n",
            " |      such that sub is contained within S[start:end].  Optional\n",
            " |      arguments start and end are interpreted as in slice notation.\n",
            " |      \n",
            " |      Return -1 on failure.\n",
            " |  \n",
            " |  rindex(...)\n",
            " |      S.rindex(sub[, start[, end]]) -> int\n",
            " |      \n",
            " |      Return the highest index in S where substring sub is found,\n",
            " |      such that sub is contained within S[start:end].  Optional\n",
            " |      arguments start and end are interpreted as in slice notation.\n",
            " |      \n",
            " |      Raises ValueError when the substring is not found.\n",
            " |  \n",
            " |  rjust(self, width, fillchar=' ', /)\n",
            " |      Return a right-justified string of length width.\n",
            " |      \n",
            " |      Padding is done using the specified fill character (default is a space).\n",
            " |  \n",
            " |  rpartition(self, sep, /)\n",
            " |      Partition the string into three parts using the given separator.\n",
            " |      \n",
            " |      This will search for the separator in the string, starting at the end. If\n",
            " |      the separator is found, returns a 3-tuple containing the part before the\n",
            " |      separator, the separator itself, and the part after it.\n",
            " |      \n",
            " |      If the separator is not found, returns a 3-tuple containing two empty strings\n",
            " |      and the original string.\n",
            " |  \n",
            " |  rsplit(self, /, sep=None, maxsplit=-1)\n",
            " |      Return a list of the substrings in the string, using sep as the separator string.\n",
            " |      \n",
            " |        sep\n",
            " |          The separator used to split the string.\n",
            " |      \n",
            " |          When set to None (the default value), will split on any whitespace\n",
            " |          character (including \\\\n \\\\r \\\\t \\\\f and spaces) and will discard\n",
            " |          empty strings from the result.\n",
            " |        maxsplit\n",
            " |          Maximum number of splits (starting from the left).\n",
            " |          -1 (the default value) means no limit.\n",
            " |      \n",
            " |      Splitting starts at the end of the string and works to the front.\n",
            " |  \n",
            " |  rstrip(self, chars=None, /)\n",
            " |      Return a copy of the string with trailing whitespace removed.\n",
            " |      \n",
            " |      If chars is given and not None, remove characters in chars instead.\n",
            " |  \n",
            " |  split(self, /, sep=None, maxsplit=-1)\n",
            " |      Return a list of the substrings in the string, using sep as the separator string.\n",
            " |      \n",
            " |        sep\n",
            " |          The separator used to split the string.\n",
            " |      \n",
            " |          When set to None (the default value), will split on any whitespace\n",
            " |          character (including \\\\n \\\\r \\\\t \\\\f and spaces) and will discard\n",
            " |          empty strings from the result.\n",
            " |        maxsplit\n",
            " |          Maximum number of splits (starting from the left).\n",
            " |          -1 (the default value) means no limit.\n",
            " |      \n",
            " |      Note, str.split() is mainly useful for data that has been intentionally\n",
            " |      delimited.  With natural text that includes punctuation, consider using\n",
            " |      the regular expression module.\n",
            " |  \n",
            " |  splitlines(self, /, keepends=False)\n",
            " |      Return a list of the lines in the string, breaking at line boundaries.\n",
            " |      \n",
            " |      Line breaks are not included in the resulting list unless keepends is given and\n",
            " |      true.\n",
            " |  \n",
            " |  startswith(...)\n",
            " |      S.startswith(prefix[, start[, end]]) -> bool\n",
            " |      \n",
            " |      Return True if S starts with the specified prefix, False otherwise.\n",
            " |      With optional start, test S beginning at that position.\n",
            " |      With optional end, stop comparing S at that position.\n",
            " |      prefix can also be a tuple of strings to try.\n",
            " |  \n",
            " |  strip(self, chars=None, /)\n",
            " |      Return a copy of the string with leading and trailing whitespace removed.\n",
            " |      \n",
            " |      If chars is given and not None, remove characters in chars instead.\n",
            " |  \n",
            " |  swapcase(self, /)\n",
            " |      Convert uppercase characters to lowercase and lowercase characters to uppercase.\n",
            " |  \n",
            " |  title(self, /)\n",
            " |      Return a version of the string where each word is titlecased.\n",
            " |      \n",
            " |      More specifically, words start with uppercased characters and all remaining\n",
            " |      cased characters have lower case.\n",
            " |  \n",
            " |  translate(self, table, /)\n",
            " |      Replace each character in the string using the given translation table.\n",
            " |      \n",
            " |        table\n",
            " |          Translation table, which must be a mapping of Unicode ordinals to\n",
            " |          Unicode ordinals, strings, or None.\n",
            " |      \n",
            " |      The table must implement lookup/indexing via __getitem__, for instance a\n",
            " |      dictionary or list.  If this operation raises LookupError, the character is\n",
            " |      left untouched.  Characters mapped to None are deleted.\n",
            " |  \n",
            " |  upper(self, /)\n",
            " |      Return a copy of the string converted to uppercase.\n",
            " |  \n",
            " |  zfill(self, width, /)\n",
            " |      Pad a numeric string with zeros on the left, to fill a field of the given width.\n",
            " |      \n",
            " |      The string is never truncated.\n",
            " |  \n",
            " |  ----------------------------------------------------------------------\n",
            " |  Static methods defined here:\n",
            " |  \n",
            " |  __new__(*args, **kwargs) from builtins.type\n",
            " |      Create and return a new object.  See help(type) for accurate signature.\n",
            " |  \n",
            " |  maketrans(...)\n",
            " |      Return a translation table usable for str.translate().\n",
            " |      \n",
            " |      If there is only one argument, it must be a dictionary mapping Unicode\n",
            " |      ordinals (integers) or characters to Unicode ordinals, strings or None.\n",
            " |      Character keys will be then converted to ordinals.\n",
            " |      If there are two arguments, they must be strings of equal length, and\n",
            " |      in the resulting dictionary, each character in x will be mapped to the\n",
            " |      character at the same position in y. If there is a third argument, it\n",
            " |      must be a string, whose characters will be mapped to None in the result.\n",
            "\n"
          ]
        }
      ],
      "source": [
        "help(str)"
      ]
    },
    {
      "cell_type": "markdown",
      "metadata": {
        "id": "DszOJCu_decY"
      },
      "source": [
        "Why do we have upper(self, /)? These are the arguments we pass to the function.\n",
        "\n",
        "If we were to write the exteneded version, it would be: str.lower(\"Python\")\n",
        "\n",
        "This in in the format class.method(\"instance of str class\"). Therefore, skill.upper() automatically places that self as the skill variable, which is equal to Python\n",
        "\n",
        "Note: the forward / is ignored. Self is a positional argument (which is to the left) and keyword arguments are to the right of / (so we have to specify keyword arguments). In addition, functions may have more than one positional argument"
      ]
    },
    {
      "cell_type": "code",
      "execution_count": null,
      "metadata": {
        "colab": {
          "base_uri": "https://localhost:8080/",
          "height": 35
        },
        "id": "NRgN2_akeBQs",
        "outputId": "affbd467-5555-4c04-a9ad-4a5dfe940ba9"
      },
      "outputs": [
        {
          "data": {
            "application/vnd.google.colaboratory.intrinsic+json": {
              "type": "string"
            },
            "text/plain": [
              "'Jython'"
            ]
          },
          "execution_count": 10,
          "metadata": {},
          "output_type": "execute_result"
        }
      ],
      "source": [
        "skill.replace(\"P\", \"J\")"
      ]
    },
    {
      "cell_type": "code",
      "execution_count": null,
      "metadata": {
        "colab": {
          "base_uri": "https://localhost:8080/"
        },
        "id": "sxSZ6AuwfcqC",
        "outputId": "c22f71d6-7726-4def-865a-327e29fc472a"
      },
      "outputs": [
        {
          "data": {
            "text/plain": [
              "['Data', 'Analyst']"
            ]
          },
          "execution_count": 11,
          "metadata": {},
          "output_type": "execute_result"
        }
      ],
      "source": [
        "job_title.split(sep=\" \", maxsplit=1)"
      ]
    },
    {
      "cell_type": "markdown",
      "metadata": {
        "id": "zf6h1LLdgOzn"
      },
      "source": [
        ".split is an example of a keyword argument so it is important to define arguments.\n",
        "\n",
        "There are also magic methods denoted by a double underscore before and after the method name. These include: __add_, __contains_, __eq_ etc."
      ]
    },
    {
      "cell_type": "code",
      "execution_count": null,
      "metadata": {
        "colab": {
          "base_uri": "https://localhost:8080/",
          "height": 35
        },
        "id": "eM_gk71vgsDF",
        "outputId": "68f77bff-debb-4245-856b-8a8d5a0bfc4b"
      },
      "outputs": [
        {
          "data": {
            "application/vnd.google.colaboratory.intrinsic+json": {
              "type": "string"
            },
            "text/plain": [
              "'Data Scientist'"
            ]
          },
          "execution_count": 12,
          "metadata": {},
          "output_type": "execute_result"
        }
      ],
      "source": [
        "str.__add__(\"Data\", \" Scientist\")"
      ]
    },
    {
      "cell_type": "code",
      "execution_count": null,
      "metadata": {
        "colab": {
          "base_uri": "https://localhost:8080/"
        },
        "id": "nzRZfmtPiM-A",
        "outputId": "aad668f3-6780-4c59-cb6a-21b2647d376b"
      },
      "outputs": [
        {
          "data": {
            "text/plain": [
              "6"
            ]
          },
          "execution_count": 13,
          "metadata": {},
          "output_type": "execute_result"
        }
      ],
      "source": [
        "skill.__len__()"
      ]
    },
    {
      "cell_type": "code",
      "execution_count": null,
      "metadata": {
        "colab": {
          "base_uri": "https://localhost:8080/"
        },
        "id": "-QWulEmyiTFb",
        "outputId": "297e099f-b0f4-4fac-be8f-165eebc32373"
      },
      "outputs": [
        {
          "data": {
            "text/plain": [
              "6"
            ]
          },
          "execution_count": 14,
          "metadata": {},
          "output_type": "execute_result"
        }
      ],
      "source": [
        "len(\"Python\")"
      ]
    },
    {
      "cell_type": "markdown",
      "metadata": {
        "id": "59mutzsZknDg"
      },
      "source": [
        "For concatenating strings, we have numerous operations we can use to create the string Role: Data Analyst:\n",
        "- .format() method\n",
        "- Formatted string literals\n",
        "-% formatting (printf- style string formatting)\n",
        "- .join method (argument needs to be an iterable)\n",
        "\n",
        "Note: An iterable is any Python object capable of returning its members one at a time, permitting it to be iterated over in a for-loop. Familiar examples of iterables include lists, tuples, and strings"
      ]
    },
    {
      "cell_type": "code",
      "execution_count": null,
      "metadata": {
        "colab": {
          "base_uri": "https://localhost:8080/",
          "height": 35
        },
        "id": "J0oGisCpkvgV",
        "outputId": "0f93b83c-8c2a-4a36-a1cd-da5399e40908"
      },
      "outputs": [
        {
          "data": {
            "application/vnd.google.colaboratory.intrinsic+json": {
              "type": "string"
            },
            "text/plain": [
              "'Role: Data Analyst'"
            ]
          },
          "execution_count": 15,
          "metadata": {},
          "output_type": "execute_result"
        }
      ],
      "source": [
        "\"Role: \" + job_title"
      ]
    },
    {
      "cell_type": "code",
      "execution_count": null,
      "metadata": {
        "colab": {
          "base_uri": "https://localhost:8080/",
          "height": 35
        },
        "id": "lNhQeUVVlNIi",
        "outputId": "1494c3ef-abee-4a30-bfde-41ba3f6ce3f2"
      },
      "outputs": [
        {
          "data": {
            "application/vnd.google.colaboratory.intrinsic+json": {
              "type": "string"
            },
            "text/plain": [
              "'Role: Data Analyst; Skill Required: Python'"
            ]
          },
          "execution_count": 16,
          "metadata": {},
          "output_type": "execute_result"
        }
      ],
      "source": [
        "\"Role: {}; Skill Required: {}\".format(job_title, skill)"
      ]
    },
    {
      "cell_type": "code",
      "execution_count": null,
      "metadata": {
        "colab": {
          "base_uri": "https://localhost:8080/",
          "height": 35
        },
        "id": "TvbdV97omWGO",
        "outputId": "6bfb4eb4-64e4-4801-9455-fabad5d079c3"
      },
      "outputs": [
        {
          "data": {
            "application/vnd.google.colaboratory.intrinsic+json": {
              "type": "string"
            },
            "text/plain": [
              "'for this job, you will need to be: a Data Analyst and have Python knowledge'"
            ]
          },
          "execution_count": 17,
          "metadata": {},
          "output_type": "execute_result"
        }
      ],
      "source": [
        "f\"for this job, you will need to be: a {job_title} and have {skill} knowledge\""
      ]
    },
    {
      "cell_type": "code",
      "execution_count": null,
      "metadata": {
        "colab": {
          "base_uri": "https://localhost:8080/",
          "height": 35
        },
        "id": "y2QYJZXOm8Cz",
        "outputId": "adce539f-0154-4ed9-ec07-b7112d864058"
      },
      "outputs": [
        {
          "data": {
            "application/vnd.google.colaboratory.intrinsic+json": {
              "type": "string"
            },
            "text/plain": [
              "'Role: Data Analyst'"
            ]
          },
          "execution_count": 18,
          "metadata": {},
          "output_type": "execute_result"
        }
      ],
      "source": [
        "\"Role: %s\" %(job_title)"
      ]
    },
    {
      "cell_type": "code",
      "execution_count": null,
      "metadata": {
        "colab": {
          "base_uri": "https://localhost:8080/",
          "height": 35
        },
        "id": "MOFsjmC9nRpy",
        "outputId": "b7624869-ee8b-47d3-92ea-30248cb2212f"
      },
      "outputs": [
        {
          "data": {
            "application/vnd.google.colaboratory.intrinsic+json": {
              "type": "string"
            },
            "text/plain": [
              "'P|y|t|h|o|n'"
            ]
          },
          "execution_count": 19,
          "metadata": {},
          "output_type": "execute_result"
        }
      ],
      "source": [
        "'|'.join(skill)"
      ]
    },
    {
      "cell_type": "markdown",
      "metadata": {
        "id": "muXJmYy2hui4"
      },
      "source": [
        "# Conditional Statements"
      ]
    },
    {
      "cell_type": "markdown",
      "metadata": {
        "id": "eIJOJTjqipac"
      },
      "source": [
        "These statements evaluate whether a condition is true or false and then executing code based on that. These conmprise of:\n",
        "\n",
        "- if: first condition is met\n",
        "- elif: subsequent condition is met\n",
        "- else: fallback if no conditions are met\n",
        "\n",
        "Note: code is only executed if a condition is true"
      ]
    },
    {
      "cell_type": "code",
      "execution_count": null,
      "metadata": {
        "colab": {
          "base_uri": "https://localhost:8080/"
        },
        "id": "yVHSvtiMpZlc",
        "outputId": "b196a84f-68b2-401c-c0db-64154b283810"
      },
      "outputs": [
        {
          "name": "stdout",
          "output_type": "stream",
          "text": [
            "It is true\n"
          ]
        }
      ],
      "source": [
        "if True:\n",
        "  print(\"It is true\")\n",
        "\n",
        "if False:\n",
        "  print(\"It is false\")\n"
      ]
    },
    {
      "cell_type": "code",
      "execution_count": null,
      "metadata": {
        "colab": {
          "base_uri": "https://localhost:8080/"
        },
        "id": "AkeqRn61qeQr",
        "outputId": "853bb568-6a37-4e40-9ee7-12affea49997"
      },
      "outputs": [
        {
          "name": "stdout",
          "output_type": "stream",
          "text": [
            "You are eligibile\n"
          ]
        }
      ],
      "source": [
        "applicant_skill = \"Python\"\n",
        "years_experience = 6\n",
        "\n",
        "if skill == applicant_skill:\n",
        "  print(\"You are eligibile\")\n",
        "elif years_experience>4:\n",
        "  print(\"Enoough experience to apply\")\n",
        "else:\n",
        "  print(\"You need Python knowledge\")"
      ]
    },
    {
      "cell_type": "code",
      "execution_count": null,
      "metadata": {
        "colab": {
          "base_uri": "https://localhost:8080/"
        },
        "id": "SexJLhVcrLru",
        "outputId": "357c295a-a233-45ae-e9e2-d3f0783889c8"
      },
      "outputs": [
        {
          "name": "stdout",
          "output_type": "stream",
          "text": [
            "Enough experience to apply\n"
          ]
        }
      ],
      "source": [
        "applicant_skill = \"SQL\"\n",
        "years_experience = 6\n",
        "\n",
        "if skill == applicant_skill:\n",
        "  print(\"You are eligibile\")\n",
        "elif years_experience>4:\n",
        "  print(\"Enough experience to apply\")\n",
        "else:\n",
        "  print(\"You need Python knowledge\")"
      ]
    },
    {
      "cell_type": "markdown",
      "metadata": {
        "id": "BMVHweez5xP7"
      },
      "source": [
        "# Logical Operators & Bitwise Operators"
      ]
    },
    {
      "cell_type": "markdown",
      "metadata": {
        "id": "VUHmzamOisVs"
      },
      "source": [
        "# Lists\n"
      ]
    },
    {
      "cell_type": "markdown",
      "metadata": {
        "id": "IsNETqhMsRZ6"
      },
      "source": [
        "Lists are used for the collection of ordered items. Denoted in square brackets and contain any data type within it (sequence data type). We have methods such as:\n",
        "\n",
        "- append: add an additional item to the end of a list\n",
        "- remove: removes the first occurrence of a given value\n",
        "\n",
        "Note: lists are mutable objects, meaning they can be changed after creation"
      ]
    },
    {
      "cell_type": "code",
      "execution_count": null,
      "metadata": {
        "colab": {
          "base_uri": "https://localhost:8080/"
        },
        "id": "2fpApvSzsdHE",
        "outputId": "36b04d7d-6485-4471-becb-0f8315d3ddba"
      },
      "outputs": [
        {
          "name": "stdout",
          "output_type": "stream",
          "text": [
            "['sql', 'tableau', 'excel', 'python']\n"
          ]
        }
      ],
      "source": [
        "job_skills = ['sql', 'tableau', 'excel']\n",
        "job_skills.append('python')\n",
        "print(job_skills)"
      ]
    },
    {
      "cell_type": "code",
      "execution_count": null,
      "metadata": {
        "colab": {
          "base_uri": "https://localhost:8080/"
        },
        "id": "SitzSx38ti5Z",
        "outputId": "9e705906-52e5-44e8-8072-620ebcb6f3e1"
      },
      "outputs": [
        {
          "name": "stdout",
          "output_type": "stream",
          "text": [
            "['sql', 'excel', 'python']\n"
          ]
        }
      ],
      "source": [
        "job_skills.remove('tableau')\n",
        "print(job_skills)"
      ]
    },
    {
      "cell_type": "code",
      "execution_count": null,
      "metadata": {
        "colab": {
          "base_uri": "https://localhost:8080/"
        },
        "id": "ZU1PaRkMs-2t",
        "outputId": "6f136cf5-8fc2-4100-bb91-4f7245d30fb6"
      },
      "outputs": [
        {
          "name": "stdout",
          "output_type": "stream",
          "text": [
            "Help on class list in module builtins:\n",
            "\n",
            "class list(object)\n",
            " |  list(iterable=(), /)\n",
            " |  \n",
            " |  Built-in mutable sequence.\n",
            " |  \n",
            " |  If no argument is given, the constructor creates a new empty list.\n",
            " |  The argument must be an iterable if specified.\n",
            " |  \n",
            " |  Methods defined here:\n",
            " |  \n",
            " |  __add__(self, value, /)\n",
            " |      Return self+value.\n",
            " |  \n",
            " |  __contains__(self, key, /)\n",
            " |      Return key in self.\n",
            " |  \n",
            " |  __delitem__(self, key, /)\n",
            " |      Delete self[key].\n",
            " |  \n",
            " |  __eq__(self, value, /)\n",
            " |      Return self==value.\n",
            " |  \n",
            " |  __ge__(self, value, /)\n",
            " |      Return self>=value.\n",
            " |  \n",
            " |  __getattribute__(self, name, /)\n",
            " |      Return getattr(self, name).\n",
            " |  \n",
            " |  __getitem__(...)\n",
            " |      x.__getitem__(y) <==> x[y]\n",
            " |  \n",
            " |  __gt__(self, value, /)\n",
            " |      Return self>value.\n",
            " |  \n",
            " |  __iadd__(self, value, /)\n",
            " |      Implement self+=value.\n",
            " |  \n",
            " |  __imul__(self, value, /)\n",
            " |      Implement self*=value.\n",
            " |  \n",
            " |  __init__(self, /, *args, **kwargs)\n",
            " |      Initialize self.  See help(type(self)) for accurate signature.\n",
            " |  \n",
            " |  __iter__(self, /)\n",
            " |      Implement iter(self).\n",
            " |  \n",
            " |  __le__(self, value, /)\n",
            " |      Return self<=value.\n",
            " |  \n",
            " |  __len__(self, /)\n",
            " |      Return len(self).\n",
            " |  \n",
            " |  __lt__(self, value, /)\n",
            " |      Return self<value.\n",
            " |  \n",
            " |  __mul__(self, value, /)\n",
            " |      Return self*value.\n",
            " |  \n",
            " |  __ne__(self, value, /)\n",
            " |      Return self!=value.\n",
            " |  \n",
            " |  __repr__(self, /)\n",
            " |      Return repr(self).\n",
            " |  \n",
            " |  __reversed__(self, /)\n",
            " |      Return a reverse iterator over the list.\n",
            " |  \n",
            " |  __rmul__(self, value, /)\n",
            " |      Return value*self.\n",
            " |  \n",
            " |  __setitem__(self, key, value, /)\n",
            " |      Set self[key] to value.\n",
            " |  \n",
            " |  __sizeof__(self, /)\n",
            " |      Return the size of the list in memory, in bytes.\n",
            " |  \n",
            " |  append(self, object, /)\n",
            " |      Append object to the end of the list.\n",
            " |  \n",
            " |  clear(self, /)\n",
            " |      Remove all items from list.\n",
            " |  \n",
            " |  copy(self, /)\n",
            " |      Return a shallow copy of the list.\n",
            " |  \n",
            " |  count(self, value, /)\n",
            " |      Return number of occurrences of value.\n",
            " |  \n",
            " |  extend(self, iterable, /)\n",
            " |      Extend list by appending elements from the iterable.\n",
            " |  \n",
            " |  index(self, value, start=0, stop=9223372036854775807, /)\n",
            " |      Return first index of value.\n",
            " |      \n",
            " |      Raises ValueError if the value is not present.\n",
            " |  \n",
            " |  insert(self, index, object, /)\n",
            " |      Insert object before index.\n",
            " |  \n",
            " |  pop(self, index=-1, /)\n",
            " |      Remove and return item at index (default last).\n",
            " |      \n",
            " |      Raises IndexError if list is empty or index is out of range.\n",
            " |  \n",
            " |  remove(self, value, /)\n",
            " |      Remove first occurrence of value.\n",
            " |      \n",
            " |      Raises ValueError if the value is not present.\n",
            " |  \n",
            " |  reverse(self, /)\n",
            " |      Reverse *IN PLACE*.\n",
            " |  \n",
            " |  sort(self, /, *, key=None, reverse=False)\n",
            " |      Sort the list in ascending order and return None.\n",
            " |      \n",
            " |      The sort is in-place (i.e. the list itself is modified) and stable (i.e. the\n",
            " |      order of two equal elements is maintained).\n",
            " |      \n",
            " |      If a key function is given, apply it once to each list item and sort them,\n",
            " |      ascending or descending, according to their function values.\n",
            " |      \n",
            " |      The reverse flag can be set to sort in descending order.\n",
            " |  \n",
            " |  ----------------------------------------------------------------------\n",
            " |  Class methods defined here:\n",
            " |  \n",
            " |  __class_getitem__(...) from builtins.type\n",
            " |      See PEP 585\n",
            " |  \n",
            " |  ----------------------------------------------------------------------\n",
            " |  Static methods defined here:\n",
            " |  \n",
            " |  __new__(*args, **kwargs) from builtins.type\n",
            " |      Create and return a new object.  See help(type) for accurate signature.\n",
            " |  \n",
            " |  ----------------------------------------------------------------------\n",
            " |  Data and other attributes defined here:\n",
            " |  \n",
            " |  __hash__ = None\n",
            "\n"
          ]
        }
      ],
      "source": [
        "help(list)"
      ]
    },
    {
      "cell_type": "markdown",
      "metadata": {
        "id": "8CtN22WAvMyX"
      },
      "source": [
        "In the job_skills list, items have an assigned index. The first item is assigned an index 0, the second item 1, the third item 2 etc.\n",
        "\n",
        "We can access list specific items by typing the variable name followed by square brackets and inserting the corresponding index. Therefore, we can add items at specific places using the insert() method"
      ]
    },
    {
      "cell_type": "code",
      "execution_count": null,
      "metadata": {
        "colab": {
          "base_uri": "https://localhost:8080/"
        },
        "id": "2QR8CJCUvrIa",
        "outputId": "41b29a79-7282-4e65-c40b-5ac513fe708c"
      },
      "outputs": [
        {
          "data": {
            "application/vnd.google.colaboratory.intrinsic+json": {
              "type": "string"
            },
            "text/plain": [
              "'excel'"
            ]
          },
          "execution_count": 26,
          "metadata": {},
          "output_type": "execute_result"
        }
      ],
      "source": [
        "job_skills[1]"
      ]
    },
    {
      "cell_type": "code",
      "execution_count": null,
      "metadata": {
        "colab": {
          "base_uri": "https://localhost:8080/"
        },
        "id": "RpSN-wFjv5vr",
        "outputId": "fbee4029-0edf-4c80-d27a-91ee29ce33bd"
      },
      "outputs": [
        {
          "data": {
            "text/plain": [
              "['sql', 'powerbi', 'excel', 'python']"
            ]
          },
          "execution_count": 27,
          "metadata": {},
          "output_type": "execute_result"
        }
      ],
      "source": [
        "job_skills.insert(1, \"powerbi\")\n",
        "job_skills"
      ]
    },
    {
      "cell_type": "markdown",
      "metadata": {
        "id": "RPHG8knfw8V0"
      },
      "source": [
        "The slicing syntax is important for accessing items in a list.\n",
        "\n",
        "- Syntax: list[start:end:step]\n",
        "- start: starting index (inclusive). By default it is 0\n",
        "- end: ending index (exclusive). By default it is the last index\n",
        "- step: steps to take between items. By default it is 1"
      ]
    },
    {
      "cell_type": "code",
      "execution_count": null,
      "metadata": {
        "colab": {
          "base_uri": "https://localhost:8080/"
        },
        "id": "pdT-cI6txQw2",
        "outputId": "b6b3bd2d-ae94-495e-c89e-aba14387df93"
      },
      "outputs": [
        {
          "data": {
            "text/plain": [
              "['sql', 'excel']"
            ]
          },
          "execution_count": 28,
          "metadata": {},
          "output_type": "execute_result"
        }
      ],
      "source": [
        "job_skills[0:4:2]"
      ]
    },
    {
      "cell_type": "markdown",
      "metadata": {
        "id": "THGFZhAoykTd"
      },
      "source": [
        "Unpacking is the last key concept.  This involves assigning each of the values in an iterable, like a list, to its own variable in a single statement"
      ]
    },
    {
      "cell_type": "code",
      "execution_count": null,
      "metadata": {
        "colab": {
          "base_uri": "https://localhost:8080/"
        },
        "id": "TYKjw00NzAAQ",
        "outputId": "92559b2d-6e9f-41fb-a0ce-be776978b163"
      },
      "outputs": [
        {
          "data": {
            "text/plain": [
              "['sql', 'powerbi', 'excel', 'python']"
            ]
          },
          "execution_count": 29,
          "metadata": {},
          "output_type": "execute_result"
        }
      ],
      "source": [
        "job_skills"
      ]
    },
    {
      "cell_type": "code",
      "execution_count": null,
      "metadata": {
        "colab": {
          "base_uri": "https://localhost:8080/"
        },
        "id": "Qg2hx_EjzQlE",
        "outputId": "f120e173-b01f-41d3-e439-f3f368aa09da"
      },
      "outputs": [
        {
          "name": "stdout",
          "output_type": "stream",
          "text": [
            "sql\n",
            "powerbi\n",
            "excel\n",
            "python\n"
          ]
        }
      ],
      "source": [
        "skill1, skill2, skill3, skill4 = job_skills\n",
        "print(skill1)\n",
        "print(skill2)\n",
        "print(skill3)\n",
        "print(skill4)"
      ]
    },
    {
      "cell_type": "markdown",
      "metadata": {
        "id": "1-oTpv11zrkU"
      },
      "source": [
        "To unpack specific items on that list, we can use the unpack * operator. This ensures that multiple items (may not be important) are assigned to one variable. The first skill in the list sql is assigned to the first variable and the rest are assigned to the 'unwanted' variable."
      ]
    },
    {
      "cell_type": "code",
      "execution_count": null,
      "metadata": {
        "colab": {
          "base_uri": "https://localhost:8080/"
        },
        "id": "oWbk4hNOz5DK",
        "outputId": "016cf6b7-63ef-4132-d795-fe5fcce3cc8f"
      },
      "outputs": [
        {
          "name": "stdout",
          "output_type": "stream",
          "text": [
            "sql\n",
            "['powerbi', 'excel', 'python']\n"
          ]
        }
      ],
      "source": [
        "key_skills, *unwanted= job_skills\n",
        "print(key_skills)\n",
        "print(unwanted)"
      ]
    },
    {
      "cell_type": "markdown",
      "metadata": {
        "id": "7joh_lgd05mK"
      },
      "source": [
        "# Dictionaries\n"
      ]
    },
    {
      "cell_type": "markdown",
      "metadata": {
        "id": "HRdQRwjf0-Gg"
      },
      "source": [
        "Dictionaries are used to store data values in key:value pairs. Dictionaries are written with curly brackets {} , and have key:value pairs. This is a mapping data type.\n",
        "\n",
        "A dictionary is a collection which is ordered and mutable. Values can be duplicated, however keys cannot. Also, keys must be hashable (its value does not change during its lifetime)."
      ]
    },
    {
      "cell_type": "code",
      "execution_count": null,
      "metadata": {
        "colab": {
          "base_uri": "https://localhost:8080/"
        },
        "id": "fS9Ojk_aHWqz",
        "outputId": "9a5ecdb2-d688-449e-e5dd-7ecd269cab36"
      },
      "outputs": [
        {
          "name": "stdout",
          "output_type": "stream",
          "text": [
            "{'database': 'postgres', 'language': 'python', 'library': 'pandas'}\n"
          ]
        }
      ],
      "source": [
        "tech_skills={\n",
        "    'database':'postgres',\n",
        "    'language': 'python',\n",
        "    'library': 'pandas'\n",
        "}\n",
        "print(tech_skills)"
      ]
    },
    {
      "cell_type": "markdown",
      "metadata": {
        "id": "H3P5yXRoJEW4"
      },
      "source": [
        "Common methods that are used for the class 'dict' include:\n",
        "- getitem magic method. x.__ getitem__(y) where x is the dict name, y is the key\n",
        "- keys() method used to obtain the keys of a dictionary in the format x.keys()\n",
        "- values() method used to obtain the values of a dictionary in the format x.values()\n",
        "- pop() method to remove a particular value by inserting the key in the format x.pop(key)\n",
        "- update() method is used to add key:value pairs to the end of a dictionary"
      ]
    },
    {
      "cell_type": "code",
      "execution_count": null,
      "metadata": {
        "colab": {
          "base_uri": "https://localhost:8080/"
        },
        "id": "rPmucjlUJcg0",
        "outputId": "0ebc1270-5b3e-4c35-b225-38126e303f4c"
      },
      "outputs": [
        {
          "data": {
            "application/vnd.google.colaboratory.intrinsic+json": {
              "type": "string"
            },
            "text/plain": [
              "'postgres'"
            ]
          },
          "execution_count": 33,
          "metadata": {},
          "output_type": "execute_result"
        }
      ],
      "source": [
        "tech_skills.__getitem__('database')"
      ]
    },
    {
      "cell_type": "code",
      "execution_count": null,
      "metadata": {
        "colab": {
          "base_uri": "https://localhost:8080/"
        },
        "id": "iTvzOonsKWgZ",
        "outputId": "bcb7cfd0-8723-4f41-b5ab-f34a7ef497a5"
      },
      "outputs": [
        {
          "data": {
            "text/plain": [
              "dict_keys(['database', 'language', 'library'])"
            ]
          },
          "execution_count": 34,
          "metadata": {},
          "output_type": "execute_result"
        }
      ],
      "source": [
        "tech_skills.keys()"
      ]
    },
    {
      "cell_type": "code",
      "execution_count": null,
      "metadata": {
        "colab": {
          "base_uri": "https://localhost:8080/"
        },
        "id": "B7Ds1N0KKpwA",
        "outputId": "9f8d947f-9f2b-4845-af3a-59bdf5d8d652"
      },
      "outputs": [
        {
          "data": {
            "text/plain": [
              "dict_values(['postgres', 'python', 'pandas'])"
            ]
          },
          "execution_count": 35,
          "metadata": {},
          "output_type": "execute_result"
        }
      ],
      "source": [
        "tech_skills.values()"
      ]
    },
    {
      "cell_type": "code",
      "execution_count": null,
      "metadata": {
        "colab": {
          "base_uri": "https://localhost:8080/"
        },
        "id": "BWPHEKjLK7kY",
        "outputId": "17b8f21c-8464-4e8d-b7a7-1a1f6912426e"
      },
      "outputs": [
        {
          "name": "stdout",
          "output_type": "stream",
          "text": [
            "{'database': 'postgres', 'language': 'python'}\n"
          ]
        }
      ],
      "source": [
        "tech_skills.pop('library')\n",
        "print(tech_skills)"
      ]
    },
    {
      "cell_type": "code",
      "execution_count": null,
      "metadata": {
        "colab": {
          "base_uri": "https://localhost:8080/"
        },
        "id": "F3TWM3ymLqf6",
        "outputId": "3642a110-3700-4e46-af51-fc04a6e93eb2"
      },
      "outputs": [
        {
          "name": "stdout",
          "output_type": "stream",
          "text": [
            "{'database': 'postgres', 'language': 'python', 'cloud': 'googe cloud'}\n"
          ]
        }
      ],
      "source": [
        "tech_skills.update({'cloud': 'googe cloud'})\n",
        "print(tech_skills)"
      ]
    },
    {
      "cell_type": "markdown",
      "metadata": {
        "id": "vtmMzN7WjErX"
      },
      "source": [
        "# Sets/Tuples\n"
      ]
    },
    {
      "cell_type": "markdown",
      "metadata": {
        "id": "0O5BXXm-1fWn"
      },
      "source": [
        "Sets are similar to lists, but these are defined with curly brackets {}. These are mutable but are unqiue in the fact that if you were to convert a list to a set, it removes items that are duplicated.\n",
        "\n",
        "Therefore, they are designed for unique items, they are unordered and there is no indexing available with it. This is mostly used to extract unique values by using the set method, then reconverting this back to a list with the list method (2:04:58)"
      ]
    },
    {
      "cell_type": "code",
      "execution_count": null,
      "metadata": {
        "colab": {
          "base_uri": "https://localhost:8080/"
        },
        "id": "hD7_gWy416FK",
        "outputId": "987b7219-c253-4369-d337-635cdd7d0646"
      },
      "outputs": [
        {
          "data": {
            "text/plain": [
              "['sql', 'powerbi', 'excel', 'python', 'sql']"
            ]
          },
          "execution_count": 38,
          "metadata": {},
          "output_type": "execute_result"
        }
      ],
      "source": [
        "job_skills.append(\"sql\")\n",
        "job_skills"
      ]
    },
    {
      "cell_type": "code",
      "execution_count": null,
      "metadata": {
        "colab": {
          "base_uri": "https://localhost:8080/"
        },
        "id": "7XI7c8_32KWF",
        "outputId": "975d3582-f316-43ba-b441-d565132b4983"
      },
      "outputs": [
        {
          "data": {
            "text/plain": [
              "{'excel', 'powerbi', 'python', 'sql'}"
            ]
          },
          "execution_count": 39,
          "metadata": {},
          "output_type": "execute_result"
        }
      ],
      "source": [
        "set(job_skills)"
      ]
    },
    {
      "cell_type": "markdown",
      "metadata": {
        "id": "WleA7WJq3hM7"
      },
      "source": [
        "Tuples are defined by () but unlike lists these are immutable- you cannot add, remove, replace items. However, they are indexable.\n",
        "\n",
        "Therefore, the items are fixed- applied in software engineering"
      ]
    },
    {
      "cell_type": "code",
      "execution_count": null,
      "metadata": {
        "colab": {
          "base_uri": "https://localhost:8080/"
        },
        "id": "oPHpMPMc31Xq",
        "outputId": "7b55e3f2-636e-4720-ae11-5a2a22f2ff67"
      },
      "outputs": [
        {
          "data": {
            "text/plain": [
              "('python', 'sql', 'statistics', 'tableau')"
            ]
          },
          "execution_count": 40,
          "metadata": {},
          "output_type": "execute_result"
        }
      ],
      "source": [
        "lukes_skills = ('python', 'sql', 'statistics', 'tableau')\n",
        "lukes_skills"
      ]
    },
    {
      "cell_type": "markdown",
      "metadata": {
        "id": "VWCXxNH5jNXB"
      },
      "source": [
        "# Loops"
      ]
    },
    {
      "cell_type": "markdown",
      "metadata": {
        "id": "GKMH9N0OMN9B"
      },
      "source": [
        "Looping means repeating something over and over until a particular condition is satisfied. In Python, we have the:\n",
        "- for loop\n",
        "- while loop\n",
        "\n",
        "Note: DRY (don't repeat yourself) is a key principle in programming."
      ]
    },
    {
      "cell_type": "code",
      "execution_count": null,
      "metadata": {
        "colab": {
          "base_uri": "https://localhost:8080/"
        },
        "id": "A5fk7x8kM_lG",
        "outputId": "b2dc5ef8-7cbd-4812-afeb-e27a62235282"
      },
      "outputs": [
        {
          "name": "stdout",
          "output_type": "stream",
          "text": [
            "3\n"
          ]
        }
      ],
      "source": [
        "number_list= [1,4,6,3,2,7,5,6,3,9,0,3,2]\n",
        "x=0\n",
        "\n",
        "for n in number_list:\n",
        "  if n == 3:\n",
        "    x+=1\n",
        "\n",
        "print(x)"
      ]
    },
    {
      "cell_type": "markdown",
      "metadata": {
        "id": "6CtSJuH7OhT-"
      },
      "source": [
        "In the code above, we use a for loop to iterate through each of the numbers in the list and it counts the number of times 3 appears on the list. 'n' is the variable, 'number_list' is the iterable.\n",
        "\n",
        "We can use loops to determine all the data analyst jobs in a job_list and then use the len() function to determine the number of analyst-specific jobs.\n",
        "\n",
        "We can also use for loops in dictionaries. In the example below, we have a dictionary containing key:value pairs of applicant name:years of experience and we are looking to hire applicants with more than 5 years of experience."
      ]
    },
    {
      "cell_type": "code",
      "execution_count": null,
      "metadata": {
        "colab": {
          "base_uri": "https://localhost:8080/"
        },
        "id": "2sNZgzvOPrHN",
        "outputId": "9d62b700-b459-4db4-ac3b-b4038a56d11b"
      },
      "outputs": [
        {
          "name": "stdout",
          "output_type": "stream",
          "text": [
            "Luke\n",
            "Kelly\n",
            "Ken\n",
            "Alex\n"
          ]
        }
      ],
      "source": [
        "yrs_experience = {\n",
        "    'Luke': 3,\n",
        "    'Kelly': 6,\n",
        "    'Ken': 4,\n",
        "    'Alex': 3\n",
        "}\n",
        "\n",
        "for n in yrs_experience:\n",
        "  print(n)"
      ]
    },
    {
      "cell_type": "markdown",
      "metadata": {
        "id": "CvcjtKajRCNI"
      },
      "source": [
        "To get the key:value pairs out, we need to use the items method"
      ]
    },
    {
      "cell_type": "code",
      "execution_count": null,
      "metadata": {
        "colab": {
          "base_uri": "https://localhost:8080/"
        },
        "id": "zCzPAdziRGa_",
        "outputId": "6bd0695f-8849-40cb-a7fd-f43615856db6"
      },
      "outputs": [
        {
          "name": "stdout",
          "output_type": "stream",
          "text": [
            "Luke 3\n",
            "Kelly 6\n",
            "Ken 4\n",
            "Alex 3\n"
          ]
        }
      ],
      "source": [
        "yrs_experience = {\n",
        "    'Luke': 3,\n",
        "    'Kelly': 6,\n",
        "    'Ken': 4,\n",
        "    'Alex': 3\n",
        "}\n",
        "\n",
        "for key, value in yrs_experience.items():\n",
        "  print(key, value)"
      ]
    },
    {
      "cell_type": "markdown",
      "metadata": {
        "id": "FjkxRsNCST7f"
      },
      "source": [
        "We can then say if the value is greater than 5 years of experience, we add the key of that corresponding value to the eligible applicants list.\n",
        "\n",
        "Note: an empty list[] is required to initialize a list object so we can append to it."
      ]
    },
    {
      "cell_type": "code",
      "execution_count": null,
      "metadata": {
        "colab": {
          "base_uri": "https://localhost:8080/"
        },
        "id": "lMIDZTGNR_IH",
        "outputId": "38877e14-ecf3-4879-a3ce-8a72c4fb342c"
      },
      "outputs": [
        {
          "name": "stdout",
          "output_type": "stream",
          "text": [
            "['Kelly']\n"
          ]
        }
      ],
      "source": [
        "yrs_experience = {\n",
        "    'Luke': 3,\n",
        "    'Kelly': 6,\n",
        "    'Ken': 4,\n",
        "    'Alex': 3\n",
        "}\n",
        "\n",
        "eligibile_applicants= []\n",
        "for key, value in yrs_experience.items():\n",
        "  if value>5:\n",
        "    eligibile_applicants.append(key)\n",
        "\n",
        "print(eligibile_applicants)"
      ]
    },
    {
      "cell_type": "markdown",
      "metadata": {
        "id": "eCh-Tny3TFWv"
      },
      "source": [
        "The range function is also used in for loops to iterate through a specified number of times."
      ]
    },
    {
      "cell_type": "code",
      "execution_count": null,
      "metadata": {
        "colab": {
          "base_uri": "https://localhost:8080/"
        },
        "id": "LIYfiKRXTYUg",
        "outputId": "e515dc0a-17ff-47b3-84a1-05eed5b5d415"
      },
      "outputs": [
        {
          "data": {
            "text/plain": [
              "range(0, 6)"
            ]
          },
          "execution_count": 45,
          "metadata": {},
          "output_type": "execute_result"
        }
      ],
      "source": [
        "range(6)"
      ]
    },
    {
      "cell_type": "code",
      "execution_count": null,
      "metadata": {
        "colab": {
          "base_uri": "https://localhost:8080/"
        },
        "id": "pWkacIOEUAaC",
        "outputId": "c2611440-edf4-42c8-8b07-788a5bcc79c2"
      },
      "outputs": [
        {
          "name": "stdout",
          "output_type": "stream",
          "text": [
            "0\n",
            "1\n",
            "2\n",
            "3\n",
            "4\n",
            "5\n",
            "6\n",
            "7\n",
            "8\n",
            "9\n"
          ]
        }
      ],
      "source": [
        "for x in range(10):\n",
        "  print(x)"
      ]
    },
    {
      "cell_type": "markdown",
      "metadata": {
        "id": "KwYuH6YQUI_L"
      },
      "source": [
        "Next are **while** loops and these loops check on whether a condition is true or false.\n",
        "\n",
        "While the condition remains true, the code below the loop will continue to execute. With while loops, we need to define an indexing varibale (in the example below, that is count). *"
      ]
    },
    {
      "cell_type": "code",
      "execution_count": null,
      "metadata": {
        "colab": {
          "base_uri": "https://localhost:8080/"
        },
        "id": "ZAdoyND9UrT1",
        "outputId": "34ffd597-b0fa-47b2-af0b-d41d4e931c1f"
      },
      "outputs": [
        {
          "name": "stdout",
          "output_type": "stream",
          "text": [
            "2\n",
            "3\n",
            "4\n",
            "5\n"
          ]
        }
      ],
      "source": [
        "count=2\n",
        "\n",
        "while count < 6:\n",
        "  print(count)\n",
        "  count+=1"
      ]
    },
    {
      "cell_type": "markdown",
      "metadata": {
        "id": "uVgG93TNjQoW"
      },
      "source": [
        "# List Comprehension"
      ]
    },
    {
      "cell_type": "markdown",
      "metadata": {
        "id": "gH-Nf_hIX7WX"
      },
      "source": [
        "List comprehension offers a shorter syntax when you want to create a new list based on the values of an existing list.\n",
        "\n",
        "For the code below"
      ]
    },
    {
      "cell_type": "code",
      "execution_count": null,
      "metadata": {
        "colab": {
          "base_uri": "https://localhost:8080/"
        },
        "id": "oagBkpfHYjSR",
        "outputId": "7cefb35f-f23b-466f-d888-a926a5a4ecee"
      },
      "outputs": [
        {
          "name": "stdout",
          "output_type": "stream",
          "text": [
            "[0, 1, 2, 3, 4, 5, 6, 7, 8, 9]\n"
          ]
        }
      ],
      "source": [
        "numbers=[]\n",
        "\n",
        "for number in range(10):\n",
        "  numbers.append(number)\n",
        "\n",
        "print(numbers)"
      ]
    },
    {
      "cell_type": "markdown",
      "metadata": {
        "id": "D79ZwBckYrvk"
      },
      "source": [
        "We can also write it like this"
      ]
    },
    {
      "cell_type": "code",
      "execution_count": null,
      "metadata": {
        "colab": {
          "base_uri": "https://localhost:8080/"
        },
        "id": "xizHfycFYvLn",
        "outputId": "147bb977-0c97-4679-9cc8-dd8657a5363c"
      },
      "outputs": [
        {
          "name": "stdout",
          "output_type": "stream",
          "text": [
            "[0, 1, 2, 3, 4, 5, 6, 7, 8, 9]\n"
          ]
        }
      ],
      "source": [
        "numbers_comp=[x for x in range(10)]\n",
        "print(numbers_comp)"
      ]
    },
    {
      "cell_type": "markdown",
      "metadata": {
        "id": "ThGmSm9sY9Mn"
      },
      "source": [
        "numbers_comp=[x for x in range(10)]\n",
        "\n",
        "syntax: newList = [ expression(element) **for** element **in** oldList **if** condition]\n",
        "\n",
        "- expression: Represents the operation you want to execute on every item within the iterable.\n",
        "- element: The term “variable” refers to each value taken from the iterable.\n",
        "- iterable: specify the sequence of elements you want to iterate through.(e.g., a list, tuple, or string)."
      ]
    },
    {
      "cell_type": "code",
      "execution_count": null,
      "metadata": {
        "colab": {
          "base_uri": "https://localhost:8080/"
        },
        "id": "cmAs3vhZaQb-",
        "outputId": "1b749b7e-0058-4931-e4f7-8eee1b376aee"
      },
      "outputs": [
        {
          "name": "stdout",
          "output_type": "stream",
          "text": [
            "[0, 2, 4, 6, 8, 10, 12, 14, 16, 18]\n"
          ]
        }
      ],
      "source": [
        "new=[x*2 for x in numbers_comp]\n",
        "print(new)"
      ]
    },
    {
      "cell_type": "code",
      "execution_count": null,
      "metadata": {
        "colab": {
          "base_uri": "https://localhost:8080/"
        },
        "id": "bmGsvZQQadKx",
        "outputId": "b79e7579-f1a6-412d-ad39-a5eb76687c21"
      },
      "outputs": [
        {
          "name": "stdout",
          "output_type": "stream",
          "text": [
            "[0.0, 1.0, 2.0, 3.0, 4.0, 5.0, 6.0, 7.0, 8.0, 9.0]\n"
          ]
        }
      ],
      "source": [
        "new=[float(x) for x in numbers_comp]\n",
        "print(new)"
      ]
    },
    {
      "cell_type": "markdown",
      "metadata": {
        "id": "cSOnxqrza1Mr"
      },
      "source": [
        "This is not only limited to list comprehension, but also applies to:\n",
        "- set comprehension\n",
        "- tuple comprehension\n",
        "- dictionary comprehension\n",
        "\n",
        "Using our previous example that scans analyst jobs in a list, this can be written as a single line."
      ]
    },
    {
      "cell_type": "code",
      "execution_count": null,
      "metadata": {
        "colab": {
          "base_uri": "https://localhost:8080/"
        },
        "id": "fOaZf1Mbbpp0",
        "outputId": "08afc5b6-0b03-4225-9d40-f738b08be08c"
      },
      "outputs": [
        {
          "data": {
            "text/plain": [
              "6"
            ]
          },
          "execution_count": 52,
          "metadata": {},
          "output_type": "execute_result"
        }
      ],
      "source": [
        "job_roles= ['Data Engineer', 'Cook', 'Financial Analyst', 'QA Cloud engineer', 'Data Analyst JP', 'Producer']\n",
        "len(job_roles)"
      ]
    },
    {
      "cell_type": "code",
      "execution_count": null,
      "metadata": {
        "colab": {
          "base_uri": "https://localhost:8080/"
        },
        "id": "WRLHq5eGb_uZ",
        "outputId": "cd52ab9a-e75c-4b80-afbe-f18d5edff2b4"
      },
      "outputs": [
        {
          "name": "stdout",
          "output_type": "stream",
          "text": [
            "['Financial Analyst', 'Data Analyst JP']\n"
          ]
        }
      ],
      "source": [
        "analyst_roles= [job for job in job_roles if 'Analyst' in job]\n",
        "print(analyst_roles)"
      ]
    },
    {
      "cell_type": "markdown",
      "metadata": {
        "id": "RKtixgO_jUaS"
      },
      "source": [
        "# Functions/Lambda\n"
      ]
    },
    {
      "cell_type": "markdown",
      "metadata": {
        "id": "Cjq2YkXmX-Pf"
      },
      "source": [
        "Remember, **functions** are a reusable piece of code that performs a specific task. In order to run a function, you need () to input the argument. An argument is the value passed to the function when its called.\n",
        "\n",
        "The len() function is commonly used to tell us the number of items/pairs in a list or dictionary, the type() function define the data type of a given variable.\n",
        "\n",
        "There are 5 different types of functions:\n",
        "- Built-in functions: e.g., print()\n",
        "- User-defined functions: def my_function():\n",
        "- Lambda functions: lambda x: x + 1\n",
        "- Standard library functions (modules): e.g., math.sqrt()\n",
        "- 3rd party library functions (libraries): e.g., numpy.array()"
      ]
    },
    {
      "cell_type": "markdown",
      "metadata": {
        "id": "19NTnvsje0Dz"
      },
      "source": [
        "We can also create user defined functions. For instance, let's say we want to calculate theh total salary, which is the base salasry * (1+ bonus rate), we can create a 'calc' function for this:"
      ]
    },
    {
      "cell_type": "code",
      "execution_count": null,
      "metadata": {
        "colab": {
          "base_uri": "https://localhost:8080/"
        },
        "id": "L16rweVrfBoY",
        "outputId": "b56e5258-6cc6-4584-f758-18591aa7884b"
      },
      "outputs": [
        {
          "data": {
            "text/plain": [
              "110000.00000000001"
            ]
          },
          "execution_count": 54,
          "metadata": {},
          "output_type": "execute_result"
        }
      ],
      "source": [
        "def calc(base_salary, bonus_rate):\n",
        "  total_salary = base_salary * (1+ bonus_rate)\n",
        "  return total_salary\n",
        "\n",
        "calc(100000,0.1)"
      ]
    },
    {
      "cell_type": "markdown",
      "metadata": {
        "id": "oUZAmd5BgScM"
      },
      "source": [
        "Remember to add return on the leftside of the last line, and to the right of it specify the value you want to return.\n",
        "\n",
        "- Here, base_salary and bonus_rate are parameters which are variables inside parentheses in the function definition and act as placeholders for arguments\n",
        "\n",
        "- Arguments are values passed to the function when it is called\n",
        "\n",
        "Note: if we want to add an optional argument, in the parameters, make one of the variables equal to a given value\n",
        "\n",
        "---\n",
        "\n"
      ]
    },
    {
      "cell_type": "markdown",
      "metadata": {
        "id": "akawSJIVhwnt"
      },
      "source": [
        "**Lambda (anonymous) functions** can take any number of arguments, but can only have one expression.\n",
        "\n",
        "Syntax: 'lambda' argument(s) : expression\n",
        "\n"
      ]
    },
    {
      "cell_type": "code",
      "execution_count": null,
      "metadata": {
        "colab": {
          "base_uri": "https://localhost:8080/"
        },
        "id": "blHyPw_VjGFe",
        "outputId": "24ce14bb-254c-4e89-d926-79300c9f8a6b"
      },
      "outputs": [
        {
          "name": "stdout",
          "output_type": "stream",
          "text": [
            "18\n"
          ]
        }
      ],
      "source": [
        "null = lambda x: x*2\n",
        "print(null(9))"
      ]
    },
    {
      "cell_type": "markdown",
      "metadata": {
        "id": "ObirF16djqxU"
      },
      "source": [
        "This can also be done in one line of code and you can provide more than one argument"
      ]
    },
    {
      "cell_type": "code",
      "execution_count": null,
      "metadata": {
        "colab": {
          "base_uri": "https://localhost:8080/"
        },
        "id": "D-AM6mgKjuCD",
        "outputId": "3268cc4b-ddbe-4722-b9b5-bc0b3409a199"
      },
      "outputs": [
        {
          "data": {
            "text/plain": [
              "63"
            ]
          },
          "execution_count": 56,
          "metadata": {},
          "output_type": "execute_result"
        }
      ],
      "source": [
        "(lambda x, y: x * (y * 3))(3, 7)"
      ]
    },
    {
      "cell_type": "markdown",
      "metadata": {
        "id": "lQ0iiObkkrCX"
      },
      "source": [
        "Lambda functions can be used in conjunction with list comprehension when defining the beginning expression to create a new list. We can use this to:\n",
        "- calculate the total salary by multiplying a fixed number by the base salaries\n",
        "- data filtering"
      ]
    },
    {
      "cell_type": "code",
      "execution_count": null,
      "metadata": {
        "colab": {
          "base_uri": "https://localhost:8080/"
        },
        "id": "8Ka-dErFkzDD",
        "outputId": "836456c0-c965-4024-d76b-b1ea23e82aeb"
      },
      "outputs": [
        {
          "data": {
            "text/plain": [
              "[1100.0, 2200.0, 3300.0000000000005, 4400.0, 5500.0]"
            ]
          },
          "execution_count": 57,
          "metadata": {},
          "output_type": "execute_result"
        }
      ],
      "source": [
        "raw_salary=[1000, 2000, 3000, 4000, 5000]\n",
        "\n",
        "upd_salary=[(lambda x: x*1.1)(salary) for salary in raw_salary]\n",
        "upd_salary"
      ]
    },
    {
      "cell_type": "markdown",
      "metadata": {
        "id": "Gh54Y_WtCaJu"
      },
      "source": [
        "# Recursive functions\n"
      ]
    },
    {
      "cell_type": "markdown",
      "metadata": {
        "id": "SA7ad-dyCf06"
      },
      "source": [
        "Recursive functions means a defined function that can call itself (function call is inside the definition of the function).\n",
        "\n",
        "The function gets called continuously until the condition is fully satisfied, at which point we have achieved the base case (this is defined using an if statement). Very similar concept to looping.\n",
        "\n",
        "For instance, if we want to write all the positive even number smaller or equal to 8 so we get 8, 6, 4, 2 etc:"
      ]
    },
    {
      "cell_type": "code",
      "execution_count": null,
      "metadata": {
        "colab": {
          "base_uri": "https://localhost:8080/"
        },
        "id": "MoN85rdwEdQ8",
        "outputId": "50c6e5d9-6fa4-461c-d491-8ca5a98bc776"
      },
      "outputs": [
        {
          "name": "stdout",
          "output_type": "stream",
          "text": [
            "10\n",
            "8\n",
            "6\n",
            "4\n",
            "2\n"
          ]
        },
        {
          "data": {
            "text/plain": [
              "2"
            ]
          },
          "execution_count": 58,
          "metadata": {},
          "output_type": "execute_result"
        }
      ],
      "source": [
        "def EvenNums(num):\n",
        "  print(num)\n",
        "  if num == 2:\n",
        "    return num\n",
        "  else:\n",
        "    return EvenNums(num-2)\n",
        "\n",
        "EvenNums(10)"
      ]
    },
    {
      "cell_type": "code",
      "execution_count": null,
      "metadata": {
        "colab": {
          "base_uri": "https://localhost:8080/"
        },
        "id": "CmxqKZ8EGZC0",
        "outputId": "39b3a3d6-905e-4772-93b8-350cebb6585d"
      },
      "outputs": [
        {
          "data": {
            "text/plain": [
              "22"
            ]
          },
          "execution_count": 59,
          "metadata": {},
          "output_type": "execute_result"
        }
      ],
      "source": [
        "def Fibonacci(idx):\n",
        "  if idx <=1:\n",
        "    return idx\n",
        "  else:\n",
        "    return Fibonacci (idx-1) + (idx-2)\n",
        "\n",
        "Fibonacci(8)"
      ]
    },
    {
      "cell_type": "markdown",
      "metadata": {
        "id": "Mu3JseDqjbac"
      },
      "source": [
        "# Modules & packages"
      ]
    },
    {
      "cell_type": "markdown",
      "metadata": {
        "id": "e6MWV8GPjnh_"
      },
      "source": [
        "A module is a python file containing Python definitions and statements. A module can define functions, classes, and variables. A module can also include runnable code. A Python package usually consists of several modules. Physically, a package is a folder containing modules and maybe other folders that themselves may contain more folders and modules. Conceptually, it’s a namespace. This simply means that a package’s modules are bound together by a package name, by which they may be referenced.\n",
        "\n",
        "To import a module into your current environment, you type:\n",
        "import file_name\n",
        "\n",
        "To call the contents of the module, you type\n",
        "file_name.method()\n",
        "\n",
        "In this case, I created a module called 'jobanalyzer.py' and defined a calc function"
      ]
    },
    {
      "cell_type": "code",
      "execution_count": null,
      "metadata": {
        "colab": {
          "base_uri": "https://localhost:8080/"
        },
        "id": "YiZ0vmuqjAOH",
        "outputId": "9dd7e7d4-4a49-4946-87bf-5146a706428b"
      },
      "outputs": [
        {
          "data": {
            "text/plain": [
              "220000.00000000003"
            ]
          },
          "execution_count": 60,
          "metadata": {},
          "output_type": "execute_result"
        }
      ],
      "source": [
        "import jobanalyzer\n",
        "jobanalyzer.calc(200000)"
      ]
    },
    {
      "cell_type": "markdown",
      "metadata": {
        "id": "mG61y4kuOO8m"
      },
      "source": [
        "If we are using a few functions from another module, we can type:\n",
        "\n",
        "- from jobanalyzer import calc, function2, function3\n",
        "\n",
        "so we no longer require the dot notation. To import all functions in a module we can type:\n",
        "\n",
        "- from jobanalyzer import *\n",
        "\n",
        "The reason we would not want to import all functions is because we will run into issues if we define a function that has the same name as the 3rd party function.\n",
        "\n",
        "Note: you can go to the Python standard library to access and import different sorts of modules. Below we will import a statistics.py module to calculate the mean of a list"
      ]
    },
    {
      "cell_type": "code",
      "execution_count": null,
      "metadata": {
        "id": "PGqQFcJNQsHS"
      },
      "outputs": [],
      "source": [
        "salary_list=[ 30486, 98320, 100456, 234512, 32032, 48920, 357689]"
      ]
    },
    {
      "cell_type": "code",
      "execution_count": null,
      "metadata": {
        "colab": {
          "base_uri": "https://localhost:8080/"
        },
        "id": "wwCrnWFTQ302",
        "outputId": "c8f43aca-56da-4f24-c3e2-e6fecd1153e4"
      },
      "outputs": [
        {
          "data": {
            "text/plain": [
              "128916.42857142857"
            ]
          },
          "execution_count": 65,
          "metadata": {},
          "output_type": "execute_result"
        }
      ],
      "source": [
        "from statistics import mean, median, mode\n",
        "\n",
        "mean(salary_list)\n"
      ]
    },
    {
      "cell_type": "code",
      "execution_count": null,
      "metadata": {
        "colab": {
          "base_uri": "https://localhost:8080/"
        },
        "id": "n5fJQ1AlSD2r",
        "outputId": "33b6b502-3520-442d-96c2-950f0bd95f03"
      },
      "outputs": [
        {
          "data": {
            "text/plain": [
              "98320"
            ]
          },
          "execution_count": 66,
          "metadata": {},
          "output_type": "execute_result"
        }
      ],
      "source": [
        "median(salary_list)"
      ]
    },
    {
      "cell_type": "markdown",
      "metadata": {
        "id": "5b5zjiY0SS_P"
      },
      "source": [
        "**Carry out data cleanup exercise tomorrow**"
      ]
    },
    {
      "cell_type": "markdown",
      "metadata": {
        "id": "zpG-9Fz4Ps4J"
      },
      "source": [
        "Libraries in Python are collections of modules and packages that provide pre-written code to perform various tasks"
      ]
    },
    {
      "cell_type": "markdown",
      "metadata": {
        "id": "2ksiVYkwcmuy"
      },
      "source": [
        "# Classes"
      ]
    },
    {
      "cell_type": "markdown",
      "metadata": {
        "id": "VbxWnR0qV9lq"
      },
      "source": [
        "-**Classes**: a template for creating objects (records). Remember, 1000 is an instance of the class 'int'. Classes are useful when we need to bundle up different methods and make an object behave it a certain way.\n",
        "\n",
        "Remember, functions inside of a class are known as methods. And class attributes are class variables that are inherited by every object of a class.\n",
        "\n",
        "The most well-recognized magic method is the ____init ___ method, which enables a class to be initialized with specific attributes. For instance, if we were to devise numerous functions for salary calculations, we can create a class for this:"
      ]
    },
    {
      "cell_type": "code",
      "execution_count": null,
      "metadata": {
        "colab": {
          "base_uri": "https://localhost:8080/",
          "height": 176
        },
        "id": "sZpcxUrKdbKK",
        "outputId": "14988f11-0dde-4e4d-a063-46003f43c702"
      },
      "outputs": [
        {
          "ename": "TypeError",
          "evalue": "BaseSalary.__init__() takes 1 positional argument but 2 were given",
          "output_type": "error",
          "traceback": [
            "\u001b[0;31m---------------------------------------------------------------------------\u001b[0m",
            "\u001b[0;31mTypeError\u001b[0m                                 Traceback (most recent call last)",
            "\u001b[0;32m<ipython-input-15-0bafc3ba2d94>\u001b[0m in \u001b[0;36m<cell line: 5>\u001b[0;34m()\u001b[0m\n\u001b[1;32m      3\u001b[0m     \u001b[0;32mpass\u001b[0m\u001b[0;34m\u001b[0m\u001b[0;34m\u001b[0m\u001b[0m\n\u001b[1;32m      4\u001b[0m \u001b[0;34m\u001b[0m\u001b[0m\n\u001b[0;32m----> 5\u001b[0;31m \u001b[0mBaseSalary\u001b[0m\u001b[0;34m(\u001b[0m\u001b[0;36m100000\u001b[0m\u001b[0;34m)\u001b[0m\u001b[0;34m\u001b[0m\u001b[0;34m\u001b[0m\u001b[0m\n\u001b[0m",
            "\u001b[0;31mTypeError\u001b[0m: BaseSalary.__init__() takes 1 positional argument but 2 were given"
          ]
        }
      ],
      "source": [
        "class BaseSalary:\n",
        "  def __init__(self):\n",
        "    pass\n",
        "\n",
        "BaseSalary(100000)"
      ]
    },
    {
      "cell_type": "markdown",
      "metadata": {
        "id": "KEhOY3MydfxK"
      },
      "source": [
        "Here, we need to add more attributes next to self as Python thinks there is two positional arguments: BaseSalary (self) and 100000. Hence, we create the base_salary and bonus_rate parameters.\n",
        "\n",
        "In addition, below the __init__ method, we initialize the attributes base_salary, bonus_rate. If we do not, Python will not recognise these attributes.\n",
        "\n",
        "Initialization: Below we set the attribute of base salary (self.base_salary) equal to the variable base_salary we are passing in (which is 100000)."
      ]
    },
    {
      "cell_type": "code",
      "execution_count": null,
      "metadata": {
        "colab": {
          "base_uri": "https://localhost:8080/"
        },
        "id": "WQmta0kbZA1Q",
        "outputId": "adb24573-44c3-4617-b8f5-ccb5e7f44971"
      },
      "outputs": [
        {
          "data": {
            "text/plain": [
              "<__main__.BaseSalary at 0x7fcb0682fa60>"
            ]
          },
          "execution_count": 49,
          "metadata": {},
          "output_type": "execute_result"
        }
      ],
      "source": [
        "class BaseSalary:\n",
        "  def __init__(self, base_salary):\n",
        "    self.base_salary = base_salary\n",
        "\n",
        "\n",
        "salary_calc=BaseSalary(100)\n",
        "salary_calc\n"
      ]
    },
    {
      "cell_type": "code",
      "execution_count": null,
      "metadata": {
        "colab": {
          "base_uri": "https://localhost:8080/"
        },
        "id": "ksEA8QCnlP5y",
        "outputId": "c0fb17f1-a2a6-4893-8237-3141934ac803"
      },
      "outputs": [
        {
          "data": {
            "text/plain": [
              "100"
            ]
          },
          "execution_count": 50,
          "metadata": {},
          "output_type": "execute_result"
        }
      ],
      "source": [
        "class BaseSalary:\n",
        "  def __init__(self, base_salary):\n",
        "    self.base_salary = base_salary\n",
        "\n",
        "\n",
        "salary_calc=BaseSalary(100)\n",
        "salary_calc.base_salary"
      ]
    },
    {
      "cell_type": "markdown",
      "metadata": {
        "id": "e6Vq_SObhNA9"
      },
      "source": [
        "Here, the attribute of base_salary is equal to 100. Note we do not need to add () for attributes.\n",
        "\n",
        "The full class would be:"
      ]
    },
    {
      "cell_type": "code",
      "execution_count": null,
      "metadata": {
        "colab": {
          "base_uri": "https://localhost:8080/",
          "height": 35
        },
        "id": "JMS1THbaiPOd",
        "outputId": "5f6f2e04-f6df-463e-eccc-5fde08ca275e"
      },
      "outputs": [
        {
          "data": {
            "application/vnd.google.colaboratory.intrinsic+json": {
              "type": "string"
            },
            "text/plain": [
              "'$'"
            ]
          },
          "execution_count": 51,
          "metadata": {},
          "output_type": "execute_result"
        }
      ],
      "source": [
        "class BaseSalary:\n",
        "  def __init__(self, base_salary, bonus_rate=0.1, symbol='$'):\n",
        "    self.base_salary = base_salary\n",
        "    self.bonus_rate = bonus_rate\n",
        "    self.symbol = symbol\n",
        "\n",
        "\n",
        "salary_calc=BaseSalary(100)\n",
        "salary_calc.symbol"
      ]
    },
    {
      "cell_type": "markdown",
      "metadata": {
        "id": "klHbD-sljxr2"
      },
      "source": [
        "To change the format of the output, we can use the __ repr__ magic method combined with an f string.\n",
        "\n",
        "Note:\n",
        "- for the f-string, we reference the attributes (variables of an object. defined by its class) by typing self.attribute_name\n",
        "- to format with commas, I add '**: ,**' to the end of the self.base_salary attribute"
      ]
    },
    {
      "cell_type": "code",
      "execution_count": null,
      "metadata": {
        "colab": {
          "base_uri": "https://localhost:8080/",
          "height": 35
        },
        "id": "1kFIgvbFixrQ",
        "outputId": "49b4c2f5-f03a-467e-d104-ce4f036e040e"
      },
      "outputs": [
        {
          "data": {
            "application/vnd.google.colaboratory.intrinsic+json": {
              "type": "string"
            },
            "text/plain": [
              "'$11,000.0'"
            ]
          },
          "execution_count": 68,
          "metadata": {},
          "output_type": "execute_result"
        }
      ],
      "source": [
        "class BaseSalary:\n",
        "  def __init__(self, base_salary, bonus_rate=0.1, symbol='$'):\n",
        "    self.base_salary = base_salary\n",
        "    self.bonus_rate = bonus_rate\n",
        "    self.symbol = symbol\n",
        "    self.total_salary = base_salary * (1 + bonus_rate)\n",
        "\n",
        "\n",
        "  def __repr__(self):\n",
        "    return f'{self.symbol}{self.base_salary:,}'\n",
        "\n",
        "  def salcalc(self):\n",
        "    return f'{self.symbol}{self.total_salary:,}'\n",
        "\n",
        "\n",
        "salary_calc=BaseSalary(10000)\n",
        "salary_calc.salcalc()"
      ]
    },
    {
      "cell_type": "markdown",
      "metadata": {
        "id": "6xOzfMqxltAe"
      },
      "source": [
        "Now, we add the rest of the calculations. We simply set the **total_salar**y and **bonus value** as attributes and set them equal to their respective calculations so that we merely reference them under their respective functionsfunctions."
      ]
    },
    {
      "cell_type": "code",
      "execution_count": null,
      "metadata": {
        "colab": {
          "base_uri": "https://localhost:8080/"
        },
        "id": "PKAFf1QEt6Vc",
        "outputId": "2e4105a1-fefc-4ef7-da12-56e6843099e9"
      },
      "outputs": [
        {
          "name": "stdout",
          "output_type": "stream",
          "text": [
            "$110,000.00000000001\n",
            "$10,000.000000000015\n"
          ]
        }
      ],
      "source": [
        "  class BaseSalary:\n",
        "    def __init__(self, base_salary, bonus_rate=0.1, symbol='$'):\n",
        "      self.base_salary = base_salary\n",
        "      self.bonus_rate = bonus_rate\n",
        "      self.symbol = symbol\n",
        "      self.total_salary = base_salary * (1 + bonus_rate)\n",
        "      self.bonus_value = (self.total_salary - self.base_salary)\n",
        "\n",
        "\n",
        "    def __repr__(self):\n",
        "      return f'{self.symbol}{self.base_salary:,}'\n",
        "\n",
        "    def salcalc(self):\n",
        "      return f'{self.symbol}{self.total_salary:,}'\n",
        "\n",
        "    def bonuscalc(self):\n",
        "      return f'{self.symbol}{self.bonus_value:,}'\n",
        "\n",
        "\n",
        "\n",
        "salary_calc = BaseSalary(100000)\n",
        "print(salary_calc.salcalc())\n",
        "print(salary_calc.bonuscalc())"
      ]
    },
    {
      "cell_type": "markdown",
      "metadata": {
        "id": "_P0geUx-vMN4"
      },
      "source": [
        "Note: in the example above, we simply set the total_salary and bonus_value as attributes and set them equal to their respective calculations so that we simlpy reference them under the functions.\n",
        "\n",
        "However, if I do not want to do that and rather write the full operation below the function, how can I do this? It would be like this"
      ]
    },
    {
      "cell_type": "code",
      "execution_count": null,
      "metadata": {
        "colab": {
          "base_uri": "https://localhost:8080/"
        },
        "id": "I4k8UFf1lrfo",
        "outputId": "7a26525c-5ef9-49d7-f879-cbf39a21dc2b"
      },
      "outputs": [
        {
          "data": {
            "text/plain": [
              "110000.00000000001"
            ]
          },
          "execution_count": 75,
          "metadata": {},
          "output_type": "execute_result"
        }
      ],
      "source": [
        "  class BaseSalary:\n",
        "    def __init__(self, base_salary, bonus_rate=0.1, symbol='$'):\n",
        "      self.base_salary = base_salary\n",
        "      self.bonus_rate = bonus_rate\n",
        "      self.symbol = symbol\n",
        "\n",
        "    def __repr__(self):\n",
        "      return f'{self.symbol}{self.base_salary:,}'\n",
        "\n",
        "    def calculate_bonus(self):\n",
        "      return (self.base_salary * (1 + self.bonus_rate))\n",
        "\n",
        "  salary_calc = BaseSalary(100000)\n",
        "  salary_calc.calculate_bonus()"
      ]
    },
    {
      "cell_type": "markdown",
      "metadata": {
        "id": "b42Le0Q1Pdvv"
      },
      "source": [
        "# Libraries\n"
      ]
    },
    {
      "cell_type": "markdown",
      "metadata": {
        "id": "TlQoF96gwnMh"
      },
      "source": [
        "A Python library is a collection of Python packages or modules that are designed to perform specific tasks. Libraries can make everyday tasks more efficient, and are often used to perform data analysis, machine learning, and other task.\n",
        "\n",
        "To access these libraries, the first is from PyPi.org (using the' pip install pandas' for Google Colab) or through Anaconda.\n",
        "\n",
        "- pip is a bash or shell command. We can write '**!pip install pandas**'\n",
        "\n",
        "- to list all packages in the environment, type '**!pip list**'\n",
        "\n",
        "Here, we see that the version 2.2.2 of pandas is installed.\n"
      ]
    },
    {
      "cell_type": "markdown",
      "metadata": {
        "id": "zGcjZg6G0wCP"
      },
      "source": [
        "Commom 3rd party libraries:\n",
        "- Pandas: popular for accessing tabular-like data and using dataframes to visualise this\n",
        "- NumPy:\n",
        "- Matplotlib: we can take data we want to visualise and transform it into any plot we would like\n",
        "- Seaborn\n",
        "- SciPy\n",
        "- Scikit-learn"
      ]
    },
    {
      "cell_type": "code",
      "execution_count": null,
      "metadata": {
        "colab": {
          "base_uri": "https://localhost:8080/"
        },
        "id": "oiBLNBft0NAI",
        "outputId": "fc793cff-00d5-40c8-f3ec-87adb932e64d"
      },
      "outputs": [
        {
          "name": "stdout",
          "output_type": "stream",
          "text": [
            "Package                            Version\n",
            "---------------------------------- -------------------\n",
            "absl-py                            1.4.0\n",
            "accelerate                         0.34.2\n",
            "aiohappyeyeballs                   2.4.3\n",
            "aiohttp                            3.10.10\n",
            "aiosignal                          1.3.1\n",
            "alabaster                          0.7.16\n",
            "albucore                           0.0.16\n",
            "albumentations                     1.4.15\n",
            "altair                             4.2.2\n",
            "annotated-types                    0.7.0\n",
            "anyio                              3.7.1\n",
            "argon2-cffi                        23.1.0\n",
            "argon2-cffi-bindings               21.2.0\n",
            "array_record                       0.5.1\n",
            "arviz                              0.19.0\n",
            "astropy                            6.1.4\n",
            "astropy-iers-data                  0.2024.10.7.0.32.46\n",
            "astunparse                         1.6.3\n",
            "async-timeout                      4.0.3\n",
            "atpublic                           4.1.0\n",
            "attrs                              24.2.0\n",
            "audioread                          3.0.1\n",
            "autograd                           1.7.0\n",
            "babel                              2.16.0\n",
            "backcall                           0.2.0\n",
            "beautifulsoup4                     4.12.3\n",
            "bigframes                          1.22.0\n",
            "bigquery-magics                    0.4.0\n",
            "bleach                             6.1.0\n",
            "blinker                            1.4\n",
            "blis                               0.7.11\n",
            "blosc2                             2.0.0\n",
            "bokeh                              3.4.3\n",
            "Bottleneck                         1.4.0\n",
            "bqplot                             0.12.43\n",
            "branca                             0.8.0\n",
            "build                              1.2.2.post1\n",
            "CacheControl                       0.14.0\n",
            "cachetools                         5.5.0\n",
            "catalogue                          2.0.10\n",
            "certifi                            2024.8.30\n",
            "cffi                               1.17.1\n",
            "chardet                            5.2.0\n",
            "charset-normalizer                 3.4.0\n",
            "chex                               0.1.87\n",
            "clarabel                           0.9.0\n",
            "click                              8.1.7\n",
            "cloudpathlib                       0.19.0\n",
            "cloudpickle                        2.2.1\n",
            "cmake                              3.30.4\n",
            "cmdstanpy                          1.2.4\n",
            "colorcet                           3.1.0\n",
            "colorlover                         0.3.0\n",
            "colour                             0.1.5\n",
            "community                          1.0.0b1\n",
            "confection                         0.1.5\n",
            "cons                               0.4.6\n",
            "contextlib2                        21.6.0\n",
            "contourpy                          1.3.0\n",
            "cryptography                       43.0.1\n",
            "cuda-python                        12.2.1\n",
            "cudf-cu12                          24.6.1\n",
            "cufflinks                          0.17.3\n",
            "cupy-cuda12x                       12.2.0\n",
            "cvxopt                             1.3.2\n",
            "cvxpy                              1.5.3\n",
            "cycler                             0.12.1\n",
            "cymem                              2.0.8\n",
            "Cython                             3.0.11\n",
            "dask                               2024.8.0\n",
            "datascience                        0.17.6\n",
            "db-dtypes                          1.3.0\n",
            "dbus-python                        1.2.18\n",
            "debugpy                            1.6.6\n",
            "decorator                          4.4.2\n",
            "defusedxml                         0.7.1\n",
            "Deprecated                         1.2.14\n",
            "distributed                        2024.8.0\n",
            "distro                             1.7.0\n",
            "dlib                               19.24.2\n",
            "dm-tree                            0.1.8\n",
            "docstring_parser                   0.16\n",
            "docutils                           0.18.1\n",
            "dopamine_rl                        4.0.9\n",
            "duckdb                             1.1.1\n",
            "earthengine-api                    1.0.0\n",
            "easydict                           1.13\n",
            "ecos                               2.0.14\n",
            "editdistance                       0.8.1\n",
            "eerepr                             0.0.4\n",
            "einops                             0.8.0\n",
            "en-core-web-sm                     3.7.1\n",
            "entrypoints                        0.4\n",
            "et-xmlfile                         1.1.0\n",
            "etils                              1.9.4\n",
            "etuples                            0.3.9\n",
            "eval_type_backport                 0.2.0\n",
            "exceptiongroup                     1.2.2\n",
            "fastai                             2.7.17\n",
            "fastcore                           1.7.13\n",
            "fastdownload                       0.0.7\n",
            "fastjsonschema                     2.20.0\n",
            "fastprogress                       1.0.3\n",
            "fastrlock                          0.8.2\n",
            "filelock                           3.16.1\n",
            "firebase-admin                     6.5.0\n",
            "Flask                              2.2.5\n",
            "flatbuffers                        24.3.25\n",
            "flax                               0.8.5\n",
            "folium                             0.17.0\n",
            "fonttools                          4.54.1\n",
            "frozendict                         2.4.5\n",
            "frozenlist                         1.4.1\n",
            "fsspec                             2024.6.1\n",
            "future                             1.0.0\n",
            "gast                               0.6.0\n",
            "gcsfs                              2024.6.1\n",
            "GDAL                               3.6.4\n",
            "gdown                              5.2.0\n",
            "geemap                             0.34.5\n",
            "gensim                             4.3.3\n",
            "geocoder                           1.38.1\n",
            "geographiclib                      2.0\n",
            "geopandas                          1.0.1\n",
            "geopy                              2.4.1\n",
            "gin-config                         0.5.0\n",
            "glob2                              0.7\n",
            "google                             2.0.3\n",
            "google-ai-generativelanguage       0.6.6\n",
            "google-api-core                    2.19.2\n",
            "google-api-python-client           2.137.0\n",
            "google-auth                        2.27.0\n",
            "google-auth-httplib2               0.2.0\n",
            "google-auth-oauthlib               1.2.1\n",
            "google-cloud-aiplatform            1.70.0\n",
            "google-cloud-bigquery              3.25.0\n",
            "google-cloud-bigquery-connection   1.15.5\n",
            "google-cloud-bigquery-storage      2.26.0\n",
            "google-cloud-bigtable              2.26.0\n",
            "google-cloud-core                  2.4.1\n",
            "google-cloud-datastore             2.19.0\n",
            "google-cloud-firestore             2.16.1\n",
            "google-cloud-functions             1.16.5\n",
            "google-cloud-iam                   2.15.2\n",
            "google-cloud-language              2.13.4\n",
            "google-cloud-pubsub                2.25.0\n",
            "google-cloud-resource-manager      1.12.5\n",
            "google-cloud-storage               2.8.0\n",
            "google-cloud-translate             3.15.5\n",
            "google-colab                       1.0.0\n",
            "google-crc32c                      1.6.0\n",
            "google-generativeai                0.7.2\n",
            "google-pasta                       0.2.0\n",
            "google-resumable-media             2.7.2\n",
            "googleapis-common-protos           1.65.0\n",
            "googledrivedownloader              0.4\n",
            "graphviz                           0.20.3\n",
            "greenlet                           3.1.1\n",
            "grpc-google-iam-v1                 0.13.1\n",
            "grpcio                             1.64.1\n",
            "grpcio-status                      1.48.2\n",
            "gspread                            6.0.2\n",
            "gspread-dataframe                  3.3.1\n",
            "gym                                0.25.2\n",
            "gym-notices                        0.0.8\n",
            "h5netcdf                           1.4.0\n",
            "h5py                               3.11.0\n",
            "holidays                           0.58\n",
            "holoviews                          1.19.1\n",
            "html5lib                           1.1\n",
            "httpimport                         1.4.0\n",
            "httplib2                           0.22.0\n",
            "huggingface-hub                    0.24.7\n",
            "humanize                           4.10.0\n",
            "hyperopt                           0.2.7\n",
            "ibis-framework                     9.2.0\n",
            "idna                               3.10\n",
            "imageio                            2.35.1\n",
            "imageio-ffmpeg                     0.5.1\n",
            "imagesize                          1.4.1\n",
            "imbalanced-learn                   0.12.4\n",
            "imgaug                             0.4.0\n",
            "immutabledict                      4.2.0\n",
            "importlib_metadata                 8.5.0\n",
            "importlib_resources                6.4.5\n",
            "imutils                            0.5.4\n",
            "inflect                            7.4.0\n",
            "iniconfig                          2.0.0\n",
            "intel-cmplr-lib-ur                 2024.2.1\n",
            "intel-openmp                       2024.2.1\n",
            "ipyevents                          2.0.2\n",
            "ipyfilechooser                     0.6.0\n",
            "ipykernel                          5.5.6\n",
            "ipyleaflet                         0.19.2\n",
            "ipyparallel                        8.8.0\n",
            "ipython                            7.34.0\n",
            "ipython-genutils                   0.2.0\n",
            "ipython-sql                        0.5.0\n",
            "ipytree                            0.2.2\n",
            "ipywidgets                         7.7.1\n",
            "itsdangerous                       2.2.0\n",
            "jax                                0.4.33\n",
            "jax-cuda12-pjrt                    0.4.33\n",
            "jax-cuda12-plugin                  0.4.33\n",
            "jaxlib                             0.4.33\n",
            "jeepney                            0.7.1\n",
            "jellyfish                          1.1.0\n",
            "jieba                              0.42.1\n",
            "Jinja2                             3.1.4\n",
            "joblib                             1.4.2\n",
            "jsonpickle                         3.3.0\n",
            "jsonschema                         4.23.0\n",
            "jsonschema-specifications          2024.10.1\n",
            "jupyter-client                     6.1.12\n",
            "jupyter-console                    6.1.0\n",
            "jupyter_core                       5.7.2\n",
            "jupyter-leaflet                    0.19.2\n",
            "jupyter-server                     1.24.0\n",
            "jupyterlab_pygments                0.3.0\n",
            "jupyterlab_widgets                 3.0.13\n",
            "kaggle                             1.6.17\n",
            "kagglehub                          0.3.1\n",
            "keras                              3.4.1\n",
            "keyring                            23.5.0\n",
            "kiwisolver                         1.4.7\n",
            "langcodes                          3.4.1\n",
            "language_data                      1.2.0\n",
            "launchpadlib                       1.10.16\n",
            "lazr.restfulclient                 0.14.4\n",
            "lazr.uri                           1.0.6\n",
            "lazy_loader                        0.4\n",
            "libclang                           18.1.1\n",
            "librosa                            0.10.2.post1\n",
            "lightgbm                           4.5.0\n",
            "linkify-it-py                      2.0.3\n",
            "llvmlite                           0.43.0\n",
            "locket                             1.0.0\n",
            "logical-unification                0.4.6\n",
            "lxml                               4.9.4\n",
            "marisa-trie                        1.2.0\n",
            "Markdown                           3.7\n",
            "markdown-it-py                     3.0.0\n",
            "MarkupSafe                         3.0.1\n",
            "matplotlib                         3.7.1\n",
            "matplotlib-inline                  0.1.7\n",
            "matplotlib-venn                    1.1.1\n",
            "mdit-py-plugins                    0.4.2\n",
            "mdurl                              0.1.2\n",
            "miniKanren                         1.0.3\n",
            "missingno                          0.5.2\n",
            "mistune                            0.8.4\n",
            "mizani                             0.11.4\n",
            "mkl                                2024.2.2\n",
            "ml-dtypes                          0.4.1\n",
            "mlxtend                            0.23.1\n",
            "more-itertools                     10.5.0\n",
            "moviepy                            1.0.3\n",
            "mpmath                             1.3.0\n",
            "msgpack                            1.0.8\n",
            "multidict                          6.1.0\n",
            "multipledispatch                   1.0.0\n",
            "multitasking                       0.0.11\n",
            "murmurhash                         1.0.10\n",
            "music21                            9.1.0\n",
            "namex                              0.0.8\n",
            "natsort                            8.4.0\n",
            "nbclassic                          1.1.0\n",
            "nbclient                           0.10.0\n",
            "nbconvert                          6.5.4\n",
            "nbformat                           5.10.4\n",
            "nest-asyncio                       1.6.0\n",
            "networkx                           3.4\n",
            "nibabel                            5.2.1\n",
            "nltk                               3.8.1\n",
            "notebook                           6.5.5\n",
            "notebook_shim                      0.2.4\n",
            "numba                              0.60.0\n",
            "numexpr                            2.10.1\n",
            "numpy                              1.26.4\n",
            "nvidia-cublas-cu12                 12.6.3.3\n",
            "nvidia-cuda-cupti-cu12             12.6.80\n",
            "nvidia-cuda-nvcc-cu12              12.6.77\n",
            "nvidia-cuda-runtime-cu12           12.6.77\n",
            "nvidia-cudnn-cu12                  9.5.0.50\n",
            "nvidia-cufft-cu12                  11.3.0.4\n",
            "nvidia-cusolver-cu12               11.7.1.2\n",
            "nvidia-cusparse-cu12               12.5.4.2\n",
            "nvidia-nccl-cu12                   2.23.4\n",
            "nvidia-nvjitlink-cu12              12.6.77\n",
            "nvtx                               0.2.10\n",
            "oauth2client                       4.1.3\n",
            "oauthlib                           3.2.2\n",
            "opencv-contrib-python              4.10.0.84\n",
            "opencv-python                      4.10.0.84\n",
            "opencv-python-headless             4.10.0.84\n",
            "openpyxl                           3.1.5\n",
            "opentelemetry-api                  1.16.0\n",
            "opentelemetry-sdk                  1.16.0\n",
            "opentelemetry-semantic-conventions 0.37b0\n",
            "opt_einsum                         3.4.0\n",
            "optax                              0.2.3\n",
            "optree                             0.13.0\n",
            "orbax-checkpoint                   0.6.4\n",
            "ordered-set                        4.1.0\n",
            "osqp                               0.6.7.post0\n",
            "packaging                          24.1\n",
            "pandas                             2.2.2\n",
            "pandas-datareader                  0.10.0\n",
            "pandas-gbq                         0.23.2\n",
            "pandas-stubs                       2.2.2.240909\n",
            "pandocfilters                      1.5.1\n",
            "panel                              1.4.5\n",
            "param                              2.1.1\n",
            "parso                              0.8.4\n",
            "parsy                              2.1\n",
            "partd                              1.4.2\n",
            "pathlib                            1.0.1\n",
            "patsy                              0.5.6\n",
            "peewee                             3.17.6\n",
            "pexpect                            4.9.0\n",
            "pickleshare                        0.7.5\n",
            "pillow                             10.4.0\n",
            "pip                                24.1.2\n",
            "pip-tools                          7.4.1\n",
            "platformdirs                       4.3.6\n",
            "plotly                             5.24.1\n",
            "plotnine                           0.13.6\n",
            "pluggy                             1.5.0\n",
            "polars                             1.7.1\n",
            "pooch                              1.8.2\n",
            "portpicker                         1.5.2\n",
            "prefetch_generator                 1.0.3\n",
            "preshed                            3.0.9\n",
            "prettytable                        3.11.0\n",
            "proglog                            0.1.10\n",
            "progressbar2                       4.5.0\n",
            "prometheus_client                  0.21.0\n",
            "promise                            2.3\n",
            "prompt_toolkit                     3.0.48\n",
            "propcache                          0.2.0\n",
            "prophet                            1.1.6\n",
            "proto-plus                         1.24.0\n",
            "protobuf                           3.20.3\n",
            "psutil                             5.9.5\n",
            "psycopg2                           2.9.9\n",
            "ptyprocess                         0.7.0\n",
            "py-cpuinfo                         9.0.0\n",
            "py4j                               0.10.9.7\n",
            "pyarrow                            16.1.0\n",
            "pyarrow-hotfix                     0.6\n",
            "pyasn1                             0.6.1\n",
            "pyasn1_modules                     0.4.1\n",
            "pycocotools                        2.0.8\n",
            "pycparser                          2.22\n",
            "pydantic                           2.9.2\n",
            "pydantic_core                      2.23.4\n",
            "pydata-google-auth                 1.8.2\n",
            "pydot                              3.0.2\n",
            "pydot-ng                           2.0.0\n",
            "pydotplus                          2.0.2\n",
            "PyDrive                            1.3.1\n",
            "PyDrive2                           1.20.0\n",
            "pyerfa                             2.0.1.4\n",
            "pygame                             2.6.1\n",
            "Pygments                           2.18.0\n",
            "PyGObject                          3.42.1\n",
            "PyJWT                              2.9.0\n",
            "pymc                               5.16.2\n",
            "pymystem3                          0.2.0\n",
            "pynvjitlink-cu12                   0.3.0\n",
            "pyogrio                            0.10.0\n",
            "PyOpenGL                           3.1.7\n",
            "pyOpenSSL                          24.2.1\n",
            "pyparsing                          3.1.4\n",
            "pyperclip                          1.9.0\n",
            "pyproj                             3.7.0\n",
            "pyproject_hooks                    1.2.0\n",
            "pyshp                              2.3.1\n",
            "PySocks                            1.7.1\n",
            "pytensor                           2.25.5\n",
            "pytest                             7.4.4\n",
            "python-apt                         0.0.0\n",
            "python-box                         7.2.0\n",
            "python-dateutil                    2.8.2\n",
            "python-louvain                     0.16\n",
            "python-slugify                     8.0.4\n",
            "python-utils                       3.9.0\n",
            "pytz                               2024.2\n",
            "pyviz_comms                        3.0.3\n",
            "PyYAML                             6.0.2\n",
            "pyzmq                              24.0.1\n",
            "qdldl                              0.1.7.post4\n",
            "ratelim                            0.1.6\n",
            "referencing                        0.35.1\n",
            "regex                              2024.9.11\n",
            "requests                           2.32.3\n",
            "requests-oauthlib                  1.3.1\n",
            "requirements-parser                0.9.0\n",
            "rich                               13.9.2\n",
            "rmm-cu12                           24.6.0\n",
            "rpds-py                            0.20.0\n",
            "rpy2                               3.4.2\n",
            "rsa                                4.9\n",
            "safetensors                        0.4.5\n",
            "scikit-image                       0.24.0\n",
            "scikit-learn                       1.5.2\n",
            "scipy                              1.13.1\n",
            "scooby                             0.10.0\n",
            "scs                                3.2.7\n",
            "seaborn                            0.13.2\n",
            "SecretStorage                      3.3.1\n",
            "Send2Trash                         1.8.3\n",
            "sentencepiece                      0.2.0\n",
            "setuptools                         71.0.4\n",
            "shapely                            2.0.6\n",
            "shellingham                        1.5.4\n",
            "simple-parsing                     0.1.6\n",
            "six                                1.16.0\n",
            "sklearn-pandas                     2.2.0\n",
            "smart-open                         7.0.5\n",
            "sniffio                            1.3.1\n",
            "snowballstemmer                    2.2.0\n",
            "sortedcontainers                   2.4.0\n",
            "soundfile                          0.12.1\n",
            "soupsieve                          2.6\n",
            "soxr                               0.5.0.post1\n",
            "spacy                              3.7.5\n",
            "spacy-legacy                       3.0.12\n",
            "spacy-loggers                      1.0.5\n",
            "Sphinx                             5.0.2\n",
            "sphinxcontrib-applehelp            2.0.0\n",
            "sphinxcontrib-devhelp              2.0.0\n",
            "sphinxcontrib-htmlhelp             2.1.0\n",
            "sphinxcontrib-jsmath               1.0.1\n",
            "sphinxcontrib-qthelp               2.0.0\n",
            "sphinxcontrib-serializinghtml      2.0.0\n",
            "SQLAlchemy                         2.0.35\n",
            "sqlglot                            25.1.0\n",
            "sqlparse                           0.5.1\n",
            "srsly                              2.4.8\n",
            "stanio                             0.5.1\n",
            "statsmodels                        0.14.4\n",
            "StrEnum                            0.4.15\n",
            "sympy                              1.13.3\n",
            "tables                             3.8.0\n",
            "tabulate                           0.9.0\n",
            "tbb                                2021.13.1\n",
            "tblib                              3.0.0\n",
            "tenacity                           9.0.0\n",
            "tensorboard                        2.17.0\n",
            "tensorboard-data-server            0.7.2\n",
            "tensorflow                         2.17.0\n",
            "tensorflow-datasets                4.9.6\n",
            "tensorflow-hub                     0.16.1\n",
            "tensorflow-io-gcs-filesystem       0.37.1\n",
            "tensorflow-metadata                1.16.1\n",
            "tensorflow-probability             0.24.0\n",
            "tensorstore                        0.1.66\n",
            "termcolor                          2.5.0\n",
            "terminado                          0.18.1\n",
            "text-unidecode                     1.3\n",
            "textblob                           0.17.1\n",
            "tf_keras                           2.17.0\n",
            "tf-slim                            1.1.0\n",
            "thinc                              8.2.5\n",
            "threadpoolctl                      3.5.0\n",
            "tifffile                           2024.9.20\n",
            "tinycss2                           1.3.0\n",
            "tokenizers                         0.19.1\n",
            "toml                               0.10.2\n",
            "tomli                              2.0.2\n",
            "toolz                              0.12.1\n",
            "torch                              2.4.1+cu121\n",
            "torchaudio                         2.4.1+cu121\n",
            "torchsummary                       1.5.1\n",
            "torchvision                        0.19.1+cu121\n",
            "tornado                            6.3.3\n",
            "tqdm                               4.66.5\n",
            "traitlets                          5.7.1\n",
            "traittypes                         0.2.1\n",
            "transformers                       4.44.2\n",
            "tweepy                             4.14.0\n",
            "typeguard                          4.3.0\n",
            "typer                              0.12.5\n",
            "types-pytz                         2024.2.0.20241003\n",
            "types-setuptools                   75.1.0.20240917\n",
            "typing_extensions                  4.12.2\n",
            "tzdata                             2024.2\n",
            "tzlocal                            5.2\n",
            "uc-micro-py                        1.0.3\n",
            "uritemplate                        4.1.1\n",
            "urllib3                            2.2.3\n",
            "vega-datasets                      0.9.0\n",
            "wadllib                            1.3.6\n",
            "wasabi                             1.1.3\n",
            "wcwidth                            0.2.13\n",
            "weasel                             0.4.1\n",
            "webcolors                          24.8.0\n",
            "webencodings                       0.5.1\n",
            "websocket-client                   1.8.0\n",
            "Werkzeug                           3.0.4\n",
            "wheel                              0.44.0\n",
            "widgetsnbextension                 3.6.9\n",
            "wordcloud                          1.9.3\n",
            "wrapt                              1.16.0\n",
            "xarray                             2024.9.0\n",
            "xarray-einstats                    0.8.0\n",
            "xgboost                            2.1.1\n",
            "xlrd                               2.0.1\n",
            "xyzservices                        2024.9.0\n",
            "yarl                               1.14.0\n",
            "yellowbrick                        1.5\n",
            "yfinance                           0.2.44\n",
            "zict                               3.0.0\n",
            "zipp                               3.20.2\n"
          ]
        }
      ],
      "source": [
        "!pip list"
      ]
    },
    {
      "cell_type": "markdown",
      "metadata": {
        "id": "zKx1nr8RWh1G"
      },
      "source": [
        "# Additional topics\n"
      ]
    },
    {
      "cell_type": "markdown",
      "metadata": {
        "id": "V_ox3IQlW9rQ"
      },
      "source": [
        "- Arrays\n",
        "- Inheritance\n",
        "- Iterators\n",
        "- Polymorphism\n",
        "- Scope\n",
        "- Dates\n",
        "- JSON\n",
        "- RegEx\n",
        "- pip\n",
        "- try...except\n",
        "- user input\n",
        "\n",
        "Learnt the rest of these concepts using W3 Schools\n"
      ]
    }
  ],
  "metadata": {
    "colab": {
      "collapsed_sections": [
        "VUHmzamOisVs",
        "7joh_lgd05mK",
        "vtmMzN7WjErX",
        "VWCXxNH5jNXB",
        "uVgG93TNjQoW"
      ],
      "provenance": [],
      "toc_visible": true
    },
    "kernelspec": {
      "display_name": "Python 3",
      "name": "python3"
    },
    "language_info": {
      "name": "python"
    }
  },
  "nbformat": 4,
  "nbformat_minor": 0
}
